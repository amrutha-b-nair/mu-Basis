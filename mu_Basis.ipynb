{
 "cells": [
  {
   "cell_type": "markdown",
   "id": "f7525ac9",
   "metadata": {},
   "source": [
    "<!--bibtex\n",
    "\n",
    "@article{Villard1995,\n",
    "   author = {Gilles Villard},\n",
    "   journal = {J. Symbolic Comput.},\n",
    "   pages = {269-286},\n",
    "   title = {Generalized subresultants for computing the Smith normal form of polynomial matrices.},\n",
    "   volume = {20},\n",
    "   year = {1995},\n",
    "}\n",
    "\n",
    "@article{HongHoughKogan,\n",
    "   author = {Hoon Hong and Zachary Hough and Irina A Kogan},\n",
    "   keywords = {polynomial vectors,rational curves MSC 2010: 12Y05, 13P10, 14Q05, 68W30,syzygy module,µ-basis},\n",
    "   title = {Algorithm for computing µ-bases of univariate polynomials},\n",
    "}\n",
    "-->"
   ]
  },
  {
   "cell_type": "markdown",
   "id": "ef34e5f9",
   "metadata": {},
   "source": [
    "### $\\mu$-Basis "
   ]
  },
  {
   "cell_type": "markdown",
   "id": "ff4f9ddb",
   "metadata": {},
   "source": [
    "$\\textbf{deg}$ function will give the highest degree of a variable \"s\" in a vector \"a\"  "
   ]
  },
  {
   "cell_type": "code",
   "execution_count": 2,
   "id": "f83ac733",
   "metadata": {},
   "outputs": [],
   "source": [
    "def deg(vector,s):\n",
    "    \n",
    "    higest_degree=0\n",
    "    components=[]\n",
    "    \n",
    "    for i in range(0,len(vector)):\n",
    "        components.append(SR(vector[i]))\n",
    "        if higest_degree<components[i].degree(s):\n",
    "            higest_degree=components[i].degree(s)\n",
    "            \n",
    "    return higest_degree"
   ]
  },
  {
   "cell_type": "markdown",
   "id": "6b744e2e",
   "metadata": {},
   "source": [
    "$\\textbf{degmatrix}$ function will give the highest degree of a variable \"s\" in a matrix."
   ]
  },
  {
   "cell_type": "code",
   "execution_count": 3,
   "id": "fd3392c7",
   "metadata": {},
   "outputs": [],
   "source": [
    "def degmatrix(matrix,s):\n",
    "    \n",
    "    higest_degree=0\n",
    "    \n",
    "    for i in range(0,matrix.ncols()):\n",
    "        for j in range(0,matrix.nrows()):\n",
    "            if higest_degree<SR(matrix[j,i]).degree(s):\n",
    "                higest_degree=SR(matrix[j,i]).degree(s)\n",
    "                \n",
    "    return higest_degree"
   ]
  },
  {
   "cell_type": "markdown",
   "id": "1f770f8f",
   "metadata": {},
   "source": [
    "$\\textbf{GCDlist}$ function will return the GCD of all elements of a list."
   ]
  },
  {
   "cell_type": "code",
   "execution_count": 4,
   "id": "8e32bfd9",
   "metadata": {},
   "outputs": [],
   "source": [
    "def GCDlist(L):\n",
    "    \n",
    "    n=len(L)\n",
    "    if n==1:\n",
    "        gcd_list=L[0]\n",
    "    elif n==2:\n",
    "        gcd_list=gcd(L[0],L[1])\n",
    "    else:\n",
    "        gcd_list=gcd(L[0],L[1])\n",
    "        for i in range(2,n):\n",
    "            gcd_list=gcd(gcd_list,L[i])\n",
    "            \n",
    "    return gcd_list"
   ]
  },
  {
   "cell_type": "markdown",
   "id": "75aa6646",
   "metadata": {},
   "source": [
    "$\\textbf{GCD_matrix}$ function will return the GCD of all elements of a matrix."
   ]
  },
  {
   "cell_type": "code",
   "execution_count": 6,
   "id": "3a204d26",
   "metadata": {},
   "outputs": [],
   "source": [
    "def GCD_matrix(matrix):\n",
    "    n=matrix.nrows()\n",
    "    m=matrix.ncols()\n",
    "    gcd_matrix=0\n",
    "    \n",
    "    for i in range(0,n):\n",
    "        list_of_columns=[matrix[i,j] for j in range(0,m)]\n",
    "        gcd_i=GCDlist(list_of_columns)\n",
    "                \n",
    "        gcd_matrix=gcd(gcd_i,gcd_matrix)\n",
    "    return gcd_matrix"
   ]
  },
  {
   "cell_type": "markdown",
   "id": "ca14fa71",
   "metadata": {},
   "source": [
    "The following function $\\textbf{block}$ takes a matrix and an order and returns a block matrix of the specific order. "
   ]
  },
  {
   "cell_type": "code",
   "execution_count": 7,
   "id": "bcd60277",
   "metadata": {},
   "outputs": [],
   "source": [
    "def block(M,n):\n",
    "    \n",
    "    m=M.nrows()\n",
    "    \n",
    "    for i in range(0,n-m):\n",
    "        M=block_matrix([[1,zero_matrix(1,M.ncols())],[zero_matrix(M.ncols(),1),M]],subdivide=False)\n",
    "        \n",
    "    return M"
   ]
  },
  {
   "cell_type": "markdown",
   "id": "196cc084",
   "metadata": {},
   "source": [
    "### Univariate Case (degree of t=0)"
   ]
  },
  {
   "cell_type": "markdown",
   "id": "03833984",
   "metadata": {},
   "source": [
    "Let $a=(a_{10}(s), a_{20}(s), a_{30}(s), a_{40}(s))$"
   ]
  },
  {
   "cell_type": "markdown",
   "id": "1e693436",
   "metadata": {},
   "source": [
    "<ol>\n",
    "   <li> Construct a matrix from b with coefficients of s in $a=(a_{10}(s), a_{20}(s), a_{30}(s), a_{40}(s))$ with coefficients of degree 0 in first row, degree 1 in second row and so on. If n is number of elements of a and m is the highest  degree of s in $a$, the b will be a $(m+1)\\times n$ matrix.<br />\n",
    "For example if $a=(1+s^2+s^4, 1+s^3+s^4, 1+s^4)$,\n",
    "\\[matrix\\text{_}coefficients=\\begin{pmatrix}\n",
    "1&1&1\\\\\n",
    "0&0&0\\\\\n",
    "1&0&0\\\\\n",
    "0&1&0\\\\\n",
    "1&1&1\n",
    "\\end{pmatrix}\\]</li>\n",
    "    \n",
    "<li> Then construct a block matrix, matrix_final with matrix_coeffficients in its diagonal and zero as rest of the entries. It will be of size $(2m+1) \\times (m+1)n$.\n",
    "</li>\n",
    "</ol>\n",
    "Following function $\\textbf{Matrix}$ will give the resulting matrix after inputing a univariate vector and the variable (here the variable is taken as s)"
   ]
  },
  {
   "cell_type": "code",
   "execution_count": 8,
   "id": "77c18582",
   "metadata": {},
   "outputs": [],
   "source": [
    "def Matrix(row_s,s):\n",
    "    \n",
    "    n=len(row_s)\n",
    "    degree_s=deg(row_s,s)\n",
    "    \n",
    "    coefficient_list=[]\n",
    "    \n",
    "    for j in range(0,degree_s+1):\n",
    "        for i in range(0,n):\n",
    "            coefficient_list.append((SR(row_s[i])).coefficient(s,j))\n",
    "\n",
    "    matrix_coefficients=matrix(degree_s+1,n,coefficient_list)\n",
    "\n",
    "    matrix_block=[]\n",
    "    \n",
    "    for i in range(0,degree_s+1):\n",
    "        matrix_single_block=block_matrix([[zero_matrix(QQ,i,n)],[matrix_coefficients],[zero_matrix(QQ,degree_s-i,n)]],subdivide=False)\n",
    "        matrix_block=matrix_block+matrix_single_block.columns()\n",
    "        \n",
    "    matrix_final=(matrix(n*(degree_s+1),(2*degree_s)+1,matrix_block))\n",
    "    \n",
    "    return matrix_final.transpose()"
   ]
  },
  {
   "cell_type": "markdown",
   "id": "d7d23003",
   "metadata": {},
   "source": [
    "We follow the method in :cite:t:`HongHoughKogan` to compute $\\mu-$basis of univariate polynomials. \n",
    "<ol>\n",
    "<li> Construct the partial reduced row-echelon form of the matrix matrix_final following these steps.\n",
    "\n",
    "<ul>\n",
    "    <li> Stop the forward elimination as soon as $n-1$ basic non-pivot columns are  detected.</li>\n",
    "    <li> Skip over periodic non-pivot columns.</li>\n",
    "    <li> Carry out the row operations only on the required columns.</li>\n",
    "</ul>\n",
    "</li>\n",
    "<li> Construct a matrix whose columns form a $\\mu$-basis for $a$.\n",
    "</li>\n",
    "    We will get a matrix $M(s)$ such that \\[(a_{10}(s) , a_{20}(s) , a_{30}(s) , a_{40}(s))\\cdot M(s)=( 0 , 0 , 0).\\]\n",
    "</ol>\n",
    "The following $\\textbf{GaussJordan}$ returns the $\\mu$-basis $M(s)$ and the partial reduced row-echelon form of the matrix\n",
    "\n",
    ".. bibliography::"
   ]
  },
  {
   "cell_type": "code",
   "execution_count": 9,
   "id": "e633ed9b",
   "metadata": {},
   "outputs": [],
   "source": [
    "\n",
    "def GaussJordan(M,n):\n",
    "    \n",
    "    pivot=list(M.pivots())\n",
    "    non_pivot=M.nonpivots()\n",
    "    \n",
    "    equivalence_class=[]\n",
    "    basic_non_pivot=[] \n",
    "    periodic_non_pivot=[]\n",
    "    non_pivot_column_actual=[] \n",
    "    \n",
    "    for i in range(0,len(non_pivot)):\n",
    "        m=mod(non_pivot[i]+1,n)\n",
    "        if m in equivalence_class:\n",
    "            periodic_non_pivot.append(non_pivot[i])\n",
    "        else:\n",
    "            equivalence_class.append(m)\n",
    "            basic_non_pivot.append(non_pivot[i])\n",
    "            non_pivot_column_actual.append(non_pivot[i]+1)\n",
    "            \n",
    "    pivot_column=[] \n",
    "    pivot_column_actual=[] \n",
    "    \n",
    "    for i in pivot:\n",
    "        if i<basic_non_pivot[len(basic_non_pivot)-1]:\n",
    "            pivot_column.append(i)\n",
    "            pivot_column_actual.append(i+1)\n",
    "            \n",
    "            \n",
    "    selected_columns=sorted(pivot_column+basic_non_pivot)\n",
    "    matrix_selected_columns=M.matrix_from_columns(selected_columns)\n",
    "    echelon_matrix=matrix_selected_columns.echelon_form()\n",
    "    \n",
    "    partial_echelon=[]\n",
    "    count=0\n",
    "\n",
    "    for i in range(0,M.ncols()):\n",
    "        if i in selected_columns:\n",
    "            partial_echelon.append(echelon_matrix.column(count))\n",
    "            count=count+1\n",
    "        else:\n",
    "            partial_echelon.append(M.column(i))\n",
    "            \n",
    "    \n",
    "    partial_echelon_matrix=(matrix(M.ncols(),M.nrows(),partial_echelon)).transpose()\n",
    "    var('s')\n",
    "    R1.<s>=QQ[]\n",
    "    mu_basis=zero_matrix(R1,n,n-1)\n",
    "    \n",
    "    \n",
    "    A=[]\n",
    "    for j in range(0,n-1):\n",
    "        quotient,reminder=divmod(non_pivot_column_actual[j]-1,n) \n",
    "        mu_basis[reminder,j]=mu_basis[reminder,j]+s^quotient\n",
    "        \n",
    "    for i in range(0,len(pivot_column_actual)): \n",
    "        quotient,reminder=divmod(pivot_column_actual[i]-1,n)\n",
    "        for j in range(0,n-1):\n",
    "            mu_basis[reminder,j]=mu_basis[reminder,j]-(partial_echelon_matrix[i,non_pivot_column_actual[j]-1]*s^quotient)\n",
    "            \n",
    "    return mu_basis, partial_echelon_matrix\n"
   ]
  },
  {
   "cell_type": "markdown",
   "id": "7d8b1b36",
   "metadata": {},
   "source": [
    "The following function $\\textbf{mu_basis_zero}$ will give the $\\mu-$ basis in a univariate case, that is when degree of t=0"
   ]
  },
  {
   "cell_type": "code",
   "execution_count": 10,
   "id": "126a3d1b",
   "metadata": {},
   "outputs": [],
   "source": [
    "def mu_basis_zero(P):\n",
    "    \n",
    "    matrix_P=Matrix(P,s)\n",
    "    mu_basis=GaussJordan(matrix_P,len(P))\n",
    "    \n",
    "    return mu_basis[0]"
   ]
  },
  {
   "cell_type": "markdown",
   "id": "db4a010a",
   "metadata": {},
   "source": [
    "### Degree of t=1"
   ]
  },
  {
   "cell_type": "markdown",
   "id": "f2d0efee",
   "metadata": {},
   "source": [
    "Let $\\mathcal{P}=\\{a_1(s,t),a_2(s,t),a_3(s,t),a_4(s,t)\\}$, where\n",
    "\\begin{equation}\\label{quad}\n",
    "a_i(s,t)=a_{i0}(s)+a_{i1}(s)t,\\, i=1,2,3,4,\n",
    "\\end{equation} "
   ]
  },
  {
   "cell_type": "markdown",
   "id": "60c570ea",
   "metadata": {},
   "source": [
    "\n",
    "\n",
    "<ol>\n",
    "    <li> Find the degree of $\\mathcal{P}$ in s which is the highest degree of s in the elements of $\\mathcal{P}$.</li>\n",
    "    <li> Extract the matrix $A(s)$ from $\\mathcal{P}$ and the first row of $A(s)$.\n",
    "    $$A(s):=\\begin{pmatrix}\n",
    "    a_{10}(s) & a_{20}(s) & a_{30}(s) & a_{40}(s)\\\\\n",
    "    a_{11}(s) & a_{21}(s) & a_{31}(s) & a_{41}(s)\n",
    "    \\end{pmatrix}\\in\\mathbb{K}[s]^{2\\times4}.\n",
    "    $$\n",
    "    and \n",
    "    \\[a=(a_{10}(s), a_{20}(s), a_{30}(s), a_{40}(s))\\]</li>\n",
    "    \n",
    "   </ol>\n",
    "   \n",
    "The following function $\\textbf{vector_to_matrix}$ will return thr matrix $A(s)$"
   ]
  },
  {
   "cell_type": "code",
   "execution_count": 11,
   "id": "335b2611",
   "metadata": {},
   "outputs": [],
   "source": [
    "\n",
    "def vector_to_matrix(vector):\n",
    "    \n",
    "    var('s,t')\n",
    "    R1.<s>=QQ[]\n",
    "    \n",
    "    n=len(vector)\n",
    "    m=deg(vector,t)\n",
    "    A=zero_matrix(R1,m+1,n)\n",
    "    \n",
    "    for i in range(0,n):\n",
    "        for j in range(0,m+1):\n",
    "            A[j,i]=A[j,i]+vector[i].coefficient(t,j)\n",
    "    \n",
    "    return A"
   ]
  },
  {
   "cell_type": "markdown",
   "id": "c3819284",
   "metadata": {},
   "source": [
    "Find the matrix $M'(s)$ such that $$(a_{10}(s) , a_{20}(s) , a_{30}(s) , a_{40}(s))\\cdot M'(s)=( 0 , 0 , 0)$$ as in the univariate case\n"
   ]
  },
  {
   "cell_type": "markdown",
   "id": "d2cac316",
   "metadata": {},
   "source": [
    "Choose now a B\\'ezout identity $$b_1(s)a_{10}(s)+\\ldots +b_4(s)a_{40}(s)=g(s)$$ with $\\deg(b_i)\\leq m,\\ i=1,2,3,4.$ \n",
    "Given by the following function $\\textbf{Bezout_coefficient}$ "
   ]
  },
  {
   "cell_type": "code",
   "execution_count": 12,
   "id": "13db97b9",
   "metadata": {},
   "outputs": [],
   "source": [
    "def Bezout_coefficient(a):\n",
    "    \n",
    "    coefficient=0\n",
    "    coefficient_bezout=[]\n",
    "    gcd_list=[]\n",
    "    R2.<s>=QQ[]\n",
    "    n=len(a)\n",
    "    \n",
    "    for i in range(1,n):\n",
    "        if len(gcd_list)==0:\n",
    "            gcd_i,coefficient_1,coefficient_2=xgcd(R2(a[i-1]),R2(a[i]))\n",
    "            gcd_list.append(gcd_i)\n",
    "            gcd_bezout=gcd_i\n",
    "            coefficient=coefficient_1\n",
    "            coefficient_bezout.append(coefficient_2)\n",
    "        else:\n",
    "            gcd_i,coefficient_1_i,coefficient_2_i=xgcd(gcd_list[i-2],R2(a[i]))\n",
    "            gcd_list.append(gcd_i)\n",
    "            gcd_bezout=gcd_i\n",
    "            coefficient=coefficient_1_i*coefficient\n",
    "            \n",
    "            for j in range(0,len(coefficient_bezout)):\n",
    "                coefficient_bezout[j]=coefficient_1_i*coefficient_bezout[j]\n",
    "            coefficient_bezout.append(coefficient_2_i)\n",
    "            \n",
    "    coefficient_bezout.insert(0,coefficient)\n",
    "    \n",
    "    return matrix(n,1,coefficient_bezout), gcd_bezout"
   ]
  },
  {
   "cell_type": "markdown",
   "id": "76b1f274",
   "metadata": {},
   "source": [
    "Now set $M_1(s)$ to have as its first column the vector $(b_1(s) \\ b_2(s)\\ b_3(s) b_4(s)),$ and the $\\mu$-basis obtained in previous step ($M'(s)$) as the remaining $3$ columns so that \n",
    "$$A_1(s):=A(s)\\cdot M_1(s)=\\begin{pmatrix}\n",
    "g(s)& 0& 0 & 0\\\\\n",
    "a'_1(s)& a'_2(s)& a'_3(s)& a'_4(s)\n",
    "\\end{pmatrix}.\n",
    "$$"
   ]
  },
  {
   "cell_type": "markdown",
   "id": "861bc005",
   "metadata": {},
   "source": [
    "Now repeat the above steps to find $\\mu-$basis of  $(a'_2(s), a'_3(s), a'_4(s))$ and contruct the matrix $M_2(s)$ so that \n",
    "$$M(s):=M_1(s)\\cdot \\begin{pmatrix} 1&{\\bf0}\\\\ {\\bf0} & M_2(s)\\end{pmatrix}$$ \n",
    "(Do this by using the function $\\textbf{block}$)\n",
    "\n",
    "Then \n",
    "$$A(s)\\cdot M(s)=\\begin{pmatrix}\n",
    "g(s)&0&0&0\\\\\n",
    "a'_1(s)&g'(s)&0&0\n",
    "\\end{pmatrix}$$"
   ]
  },
  {
   "cell_type": "markdown",
   "id": "a393dce5",
   "metadata": {},
   "source": [
    "Set $g''(s):=\\gcd(g(s)+a'_1(s)t, g'(s)t),$\n",
    "and $\\alpha(s,t):=\\frac{g(s)+a'_1(s)t}{g''(s)}, \\beta(s,t):=\\frac{g'(s)}{g''(s)}.$\n",
    "\n",
    "\n",
    "A $\\mu$-basis of $P(s,t)$ is given by $-\\beta(s,t)M^1(s)+\\alpha(s,t)M^2(s),\\, M^3(s), M^4(s)$ where $M^1(s) \\ M^2(s) \\ M^3(s) \\ M^4(s)$ are the columns of $M(s)$."
   ]
  },
  {
   "cell_type": "markdown",
   "id": "62f2a570",
   "metadata": {},
   "source": [
    "The following function $\\textbf{mu_basis_one}$ will give the $\\mu-$ basis when degree of t=1"
   ]
  },
  {
   "cell_type": "code",
   "execution_count": 13,
   "id": "b73b7170",
   "metadata": {},
   "outputs": [],
   "source": [
    "def mu_basis_one(P):\n",
    "    A=vector_to_matrix(P)\n",
    "    d=degmatrix(A,s)\n",
    "    matrix_reduce=A\n",
    "    reduction_matrix=identity_matrix(len(P))\n",
    "    \n",
    "    for i in range(0,A.nrows()):\n",
    "        a=matrix_reduce[0]\n",
    "        if len(a)!=1:\n",
    "            m1=Matrix(a,s)\n",
    "            mu_basis_a=GaussJordan(m1,len(a)) \n",
    "            bezout_coeff_a=Bezout_coefficient(a) \n",
    "            reduced_intermediate=block_matrix([[bezout_coeff_a[0],mu_basis_a[0]]],subdivide=False) \n",
    "            m5=block(reduced_intermediate,len(P))\n",
    "            reduction_matrix=reduction_matrix*m5\n",
    "            m2=matrix_reduce*reduced_intermediate\n",
    "            matrix_reduce=m2[1:m2.nrows(),1:m2.ncols()]\n",
    "        else: break\n",
    "            \n",
    "    reduced_matrix=A*reduction_matrix\n",
    "    L=list([reduced_matrix[0,0]+(reduced_matrix[1,0]*t),reduced_matrix[1,1]*t])\n",
    "    g=GCDlist(L)\n",
    "    alpha=(reduced_matrix[0,0]+(reduced_matrix[1,0]*t))/g\n",
    "    beta=reduced_matrix[1,1]*t/g\n",
    "    mu=zero_matrix(SR,len(P),len(P)-1)\n",
    "    \n",
    "    for i in range(0,reduction_matrix.ncols()-1):\n",
    "        if i==0:\n",
    "            mu[:,i]=mu[:,i]+(-beta*reduction_matrix[:,i]+alpha*reduction_matrix[:,i+1])\n",
    "        else:\n",
    "            mu[:,i]=mu[:,i]+(reduction_matrix[:,i+1])\n",
    "            \n",
    "    return mu,reduced_matrix"
   ]
  },
  {
   "cell_type": "markdown",
   "id": "443f7750",
   "metadata": {},
   "source": [
    "## Degree of t=2"
   ]
  },
  {
   "cell_type": "markdown",
   "id": "706a9382",
   "metadata": {},
   "source": [
    "Let $\\mathcal{P}=\\{a_1(s,t),a_2(s,t),a_3(s,t),a_4(s,t)\\}$, where\n",
    "\\begin{equation}\n",
    "a_i(s,t)=a_{i0}(s)+a_{i1}(s)t+a_{i2}t^2,\\, i=1,2,3,4,\n",
    "\\end{equation}"
   ]
  },
  {
   "cell_type": "markdown",
   "id": "8e5bd9df",
   "metadata": {},
   "source": [
    "Extract the matrix $A(s)$ from $\\mathcal{P}$ using the  $\\textbf{vector_to_matrix}$ function.\n",
    "\n",
    "$$A(s):=\\begin{pmatrix}\n",
    "a_{10}(s) & a_{20}(s) & a_{30}(s) & a_{40}(s)\\\\\n",
    "a_{11}(s) & a_{21}(s) & a_{31}(s) & a_{41}(s)\\\\\n",
    "a_{12}(s) & a_{22}(s) & a_{32}(s) & a_{42}(s)\n",
    "\\end{pmatrix}\\in\\mathbb{K}[s]^{3\\times4}$$\n",
    "so that \n",
    "$$(1,t,t^2)\\cdot A(s)=\\mathcal{P}$$\n",
    "\n"
   ]
  },
  {
   "cell_type": "markdown",
   "id": "abe76b49",
   "metadata": {},
   "source": [
    "#### Good Conditioning"
   ]
  },
  {
   "cell_type": "markdown",
   "id": "cefffe86",
   "metadata": {},
   "source": [
    "\n",
    "$A$ good conditioning on $A$ ($n\\times n$ matrix) is an (n-1)-tuple $(\\alpha_2, \\alpha_3,..., \\alpha_n)$ such that if the first row of A, $A_1$ is replaced by $A_1+\\alpha_2A_2+...+\\alpha_nA_n$. Then the gcd of elements of first row is equal to the gcd of all elements of the matrix.\n",
    "\n",
    "<ol>\n",
    "    <li> Let $A$ be an $n\\times n$ matrix</li>\n",
    "    <li> Find the degree of $A$ in s which is the highest degree of s in the elements of $A$. Let it be d.</li>\n",
    "    <li> Let $f=\\{1,2,3,...,2d+1\\}$, subset of field with $2d+1$ elements. ( We are assuming the base field has ore than $2d+1$ elements.)</li>\n",
    "    <li> Let g be the gcd of elements of first row of $A$ and $g_i$ be the gcd of elements of i-th row of A. While $g_1 \\neq g_i$, add a multiple (taken from f) of i-th row of $A$ to the first row. The elements of f for which $g_1 = g_i$ will be the $\\alpha_i$ s.</li> \n",
    "    <li> Return the modified matrix. It will be a good conditioning of $A$.</li>\n",
    "</ol>"
   ]
  },
  {
   "cell_type": "markdown",
   "id": "065e50ff",
   "metadata": {},
   "source": [
    "The following $\\textbf{good_conditioning}$ will return the modified matrix, say $A_1$ and matrix of good conditining, say $U$ such that $$U\\cdot A=A_1$$"
   ]
  },
  {
   "cell_type": "code",
   "execution_count": 16,
   "id": "63f03820",
   "metadata": {},
   "outputs": [],
   "source": [
    "def good_conditioning(A,multiple_possible):\n",
    "    \n",
    "    row_multiple=[0]*(A.nrows()-1)\n",
    "    elements_column_1=[A[0,j] for j in range(0,A.ncols())]\n",
    "    \n",
    "    gcd_row_1=GCDlist(elements_column_1)\n",
    "    gcd_A=GCD_matrix(A)\n",
    "    \n",
    "    elements_A=[]\n",
    "    for i in range(1,A.nrows()):\n",
    "        elements_A=elements_A+[A[i,j]for j in range(0,A.ncols())]\n",
    "        \n",
    "    for i in range(1,A.nrows()):\n",
    "        \n",
    "        k=0\n",
    "        if gcd_row_1!=gcd_A:\n",
    "            \n",
    "            elements_new_row=[A[0,j]+ multiple_possible[k]*A[i,j] for j in range(0,A.ncols())]\n",
    "            gcd_row_1=GCDlist(elements_new_row)\n",
    "            \n",
    "            gcd_A=GCDlist(elements_new_row + elements_A)\n",
    "            row_multiple[i-1]=multiple_possible[k]\n",
    "\n",
    "            k=k+1\n",
    "            \n",
    "        else: break\n",
    "            \n",
    "    matrix_good_conditioning=(identity_matrix(A.nrows()))\n",
    "    \n",
    "    for i in range(1,A.nrows()):\n",
    "        matrix_good_conditioning=matrix_good_conditioning.with_added_multiple_of_row(0,i,row_multiple[i-1])\n",
    "        \n",
    "    new_matrix=matrix_good_conditioning*A\n",
    "    \n",
    "    return new_matrix, matrix_good_conditioning"
   ]
  },
  {
   "cell_type": "markdown",
   "id": "f571a473",
   "metadata": {},
   "source": [
    "Follow as in the case of degree of t =1 on three rows of $A$ while doing good conditioning at each step to obtain \n",
    "\n",
    "\\begin{equation}\\label{rhs}\n",
    "U_A\\cdot A(s)\\cdot M(s)=A_1(s)\\cdot M(s)=\\begin{pmatrix}\n",
    "1&0&0&0\\\\\n",
    "a_{11}'(s)&g'(s)&0&0\\\\\n",
    "a''_{12}(s)& g'(s)a^*_{22}(s) &g'(s) g''(s) & 0\n",
    "\\end{pmatrix}\n",
    "\\end{equation}\n",
    "\n",
    "where $U_A$ is the product of matrices of good conditioning obtained at each row of $A$.\n",
    "\n",
    "The good conditioning is done at each step so that the element $g'(s)$ will be the gcd of all elements below and towards its right. "
   ]
  },
  {
   "cell_type": "markdown",
   "id": "05b7e0d5",
   "metadata": {},
   "source": [
    "The following function $\\textbf{reduce}$ will take the parametriization $P$ as input and give the matrices $U, A(s), M(s)$ and $N(s)$ so that\n",
    "$$U\\cdot A(s)\\cdot M(s)=N(s)$$\n",
    "where, N(s) will have the form\n",
    "$$N(s)=\\begin{pmatrix}\n",
    "1&0&0&0\\\\\n",
    "a_{11}'(s)&g'(s)&0&0\\\\\n",
    "a''_{12}(s)& g'(s)a^*_{22}(s) &g'(s) g''(s) & 0\n",
    "\\end{pmatrix}$$"
   ]
  },
  {
   "cell_type": "code",
   "execution_count": 17,
   "id": "e890c66a",
   "metadata": {},
   "outputs": [],
   "source": [
    "def reduce(P):\n",
    "    \n",
    "    matrix_P=vector_to_matrix(P)\n",
    "    matrix_to_reduce=matrix_P\n",
    "    \n",
    "    reduction_matrix=identity_matrix(len(P))\n",
    "    final_good_conditioning=identity_matrix(matrix_P.nrows())\n",
    "    \n",
    "    for i in range(0,matrix_P.nrows()):\n",
    "        \n",
    "        d=degmatrix(matrix_to_reduce,s)\n",
    "        f=(list(range(1,2*d+2)))\n",
    "        matrix_good_conditioned,good_conditioning_inter=good_conditioning(matrix_to_reduce,f)\n",
    "        \n",
    "        block_good_conditioning=block(good_conditioning_inter,matrix_P.nrows())\n",
    "        final_good_conditioning= block_good_conditioning*final_good_conditioning\n",
    "        \n",
    "        a=(good_conditioning_inter*matrix_to_reduce)[0]\n",
    "        \n",
    "        if len(a)!=1 and a!=vector([0]*len(a)):\n",
    "            \n",
    "            matrix_row_a=Matrix(a,s)\n",
    "            mu_basis_a=GaussJordan(matrix_row_a,len(a)) \n",
    "            bezout_coeff_a=Bezout_coefficient(a) \n",
    "            \n",
    "            reduced_matrix_1=block_matrix([[bezout_coeff_a[0],mu_basis_a[0]]],subdivide=False) \n",
    "            reduction_row_a=block(reduced_matrix_1,len(P))\n",
    "            reduction_matrix=reduction_matrix*reduction_row_a\n",
    "            reduced_row_a=matrix_good_conditioned*reduced_matrix_1\n",
    "            \n",
    "            matrix_to_reduce=reduced_row_a[1:reduced_row_a.nrows(),1:reduced_row_a.ncols()]\n",
    "            \n",
    "        else: break\n",
    "            \n",
    "    reduced_matrix=final_good_conditioning*matrix_P*reduction_matrix\n",
    "    \n",
    "    final_reduced=reduced_matrix/(reduced_matrix[0,0])\n",
    "    matrix_P_final=matrix_P/(reduced_matrix[0,0])\n",
    "    \n",
    "    return final_good_conditioning, matrix_P_final, reduction_matrix, final_reduced"
   ]
  },
  {
   "cell_type": "markdown",
   "id": "49241ad7",
   "metadata": {},
   "source": [
    "If determinant of $N(s)$ is zero, then this will be reduced to the case of degree of t is one and the $\\mu-$ basis can be computed similarly. \n",
    "\n",
    "The following function $\\textbf{mu_det_zero}$ will give the $\\mu-$basis in such a case."
   ]
  },
  {
   "cell_type": "code",
   "execution_count": 18,
   "id": "7add916b",
   "metadata": {},
   "outputs": [],
   "source": [
    "def mu_det_zero(P):\n",
    "    \n",
    "    matrix_good_conditioning, matrix_P,matrix_to_multiply,reduced_matrix=reduce(P)\n",
    "    Phi=vector([1,t,t^2])*(matrix_good_conditioning.inverse())\n",
    "\n",
    "    \n",
    "    P2=Phi*reduced_matrix[:,:2]\n",
    "    mu=zero_matrix(SR,reduced_matrix.ncols(),len(P)-1)\n",
    "    for i in range(0,len(P)-1):\n",
    "        if i==0:\n",
    "            for j in range(0,reduced_matrix.ncols()):\n",
    "                mu[j,i]=((matrix_to_multiply.column(0))*P2[1]-(P2[0]*matrix_to_multiply.column(1)))[j]\n",
    "        else:\n",
    "            for j in range(0,reduced_matrix.ncols()):\n",
    "                mu[j,i]=(matrix_to_multiply.column(i+1))[j]\n",
    "    return mu\n"
   ]
  },
  {
   "cell_type": "markdown",
   "id": "fd88e577",
   "metadata": {},
   "source": [
    "Let $$\\phi=(\\phi_1,\\phi_2,\\phi_3):=(1,t,t^2)\\cdot U_A^{-1}$$\n",
    "\n",
    "$$\\mathcal{P}\\cdot M(s)=(1,t,t^2)\\cdot U_A^{-1}\\cdot U_A\\cdot A(s)\\cdot M(s)$$\n",
    "\n",
    "$$\\mathcal{P}\\cdot M(s)=\\phi \\cdot \\begin{pmatrix}\n",
    "1&0&0&0\\\\\n",
    "a_{11}'(s)&g'(s)&0&0\\\\\n",
    "a''_{12}(s)& g'(s)a^*_{22}(s) &g'(s) g''(s) & 0\n",
    "\\end{pmatrix}$$\n",
    "\n",
    "Thus $\\mathcal{P}\\cdot M(s)$ will be of the form,\n",
    "$$(\\alpha,g'(s) \\beta, g'(s)\\gamma, 0)$$\n",
    "\n",
    "\n",
    "\n",
    " If $g'(s)\\neq 1$, then follow the same steps as above for \n",
    " $$\\mathcal{P}'=(\\alpha,\\beta, \\gamma)$$\n",
    " \n",
    " Let $B(s)$ be the new matrix and $B_1(s)=U_B\\cdot B(s)$ after good conditioning such that \n",
    " \\begin{equation}\\label{g2}\n",
    "B_1(s)\\cdot M'(s)=\\begin{pmatrix}\n",
    "1&0&0\\\\\n",
    "b_{11}'(s)&1&0\\\\\n",
    "b''_{12}(s)& b^*_{22}(s) & g''(s) \n",
    "\\end{pmatrix}\n",
    "\\end{equation}\n",
    "\n",
    "Thus we will have:\n",
    "   \\begin{equation}\n",
    "U\\cdot A(s)\\cdot M(s)=\\begin{pmatrix}\n",
    "1&0&0&0\\\\\n",
    "a_{11}'(s)&1&0&0\\\\\n",
    "a''_{12}(s)& a^*_{22}(s) & g(s) & 0\n",
    "\\end{pmatrix}\n",
    "\\end{equation}\n",
    "where $U$ is the matrix of good conditioning of $A(s)$. \n",
    "\n",
    "\n",
    "Multiplying $M(s)$ to the right by \n",
    "$$\\begin{pmatrix} \n",
    "1&0 &0&0\\\\\n",
    "-a'_{11}(s) &1 &0&0\\\\\n",
    "0& 0&1&0\\\\\n",
    "0&0&0&1\n",
    "\\end{pmatrix}$$\n",
    "to obtain \n",
    "\n",
    "\\begin{equation}\n",
    "U\\cdot A(s)\\cdot M''(s)=\\begin{pmatrix}\n",
    "1&0&0&0\\\\\n",
    "0&1&0&0\\\\\n",
    "a''_{12}(s)& a^*_{22}(s) & g(s) & 0\n",
    "\\end{pmatrix},\n",
    "\\end{equation}\n",
    "\n"
   ]
  },
  {
   "cell_type": "markdown",
   "id": "8d39e296",
   "metadata": {},
   "source": [
    "We have \n",
    "$$(1,t,t^2)\\cdot A(s)=\\mathcal{P}$$\n",
    "(Note that this will be $\\mathcal{P}'$ for $g(s)\\neq 1$)\n",
    "\n",
    "and let $$\\phi=(\\phi_1,\\phi_2,\\phi_3):=(1,t,t^2)\\cdot U^{-1}$$\n",
    "\n",
    "where $U$ is the matrix of good conditioning of $A(s)$ such that $U\\cdot A(s)=A_1(s)$.\n",
    "\n",
    "$$\\mathcal{P}\\cdot M''(s)=(1,t,t^2)\\cdot U^{-1}\\cdot U\\cdot A(s)\\cdot M''(s)=\\phi\\cdot A_1(s)\\cdot M''(s)$$\n",
    "    \n",
    "  $$\\phi\\cdot A_1(s)\\cdot M''(s)=\\phi\\cdot \\begin{pmatrix}\n",
    "1&0&0&0\\\\\n",
    "0&1&0&0\\\\\n",
    "a''_{12}(s)& a^*_{22}(s) & g(s) & 0\n",
    "\\end{pmatrix}$$\n"
   ]
  },
  {
   "cell_type": "markdown",
   "id": "42b6ab21",
   "metadata": {},
   "source": [
    "Let $$\\alpha(t):=\\begin{pmatrix}\n",
    "\\alpha_{11}(t) & \\alpha_{12}(t) & \\alpha_{13}(t)\\\\\n",
    "\\alpha_{21}(t) & \\alpha_{22}(t) & \\alpha_{23}(t)\n",
    "\\end{pmatrix} =\\begin{pmatrix}\n",
    "\\alpha_1(t)\\\\\n",
    "\\alpha_2(t)\\end{pmatrix}\n",
    "\\in\\mathbb{K}[t]^{2\\times3}\n",
    "$$\n",
    "\n",
    "be the $\\mu$-basis of $(\\phi_1,\\phi_2,\\phi_3)$. Compute it with function \\textbf{GaussJordan} as this is a univariate case in variable $t$.\n",
    "\n",
    "$\\sum_{i=1}^4 h_i(s,t)M^i(s) \\in \\mbox{Syz}(P(s,t))$ if and only if   $A(s)\\cdot M(s)\\begin{pmatrix} h_1(s,t)\\\\ h_2(s,t)\\\\ h_3(s,t)\\\\ h_4(s,t)\\end{pmatrix}$ is a $\\mathbb{K}[s,t]$-linear combination of $(\\alpha_1(t),\\,\\alpha_2(t))$.\\\\"
   ]
  },
  {
   "cell_type": "markdown",
   "id": "8aee9b8d",
   "metadata": {},
   "source": [
    "Removing the fourth column of $M(s)$ as it already gives a zero column, we have\n",
    "\n",
    "$$\n",
    "\\begin{pmatrix}\n",
    "1&0&0\\\\\n",
    "0&1&0\\\\\n",
    "a''_{12}(s)& a^*_{22}(s) & g(s) \n",
    "\\end{pmatrix}\\cdot \\begin{pmatrix} h_1(s,t)\\\\ h_2(s,t)\\\\ h_3(s,t)\\end{pmatrix}= \\big( \\alpha_1(t) \\\n",
    "\\alpha_2(t)\\big)\\cdot \\begin{pmatrix}\n",
    "\\nu_1(s,t)\\\\\n",
    "\\nu_2(s,t)\n",
    "\\end{pmatrix},\n",
    "$$\n",
    "\n",
    "\n",
    "with  $\\nu_1(s,t), \\nu_2(s,t)\\in\\mathbb{K}[s,t].$ We multiply this equality with the inverse of the matrix in the left-hand-side to get\n",
    "\n",
    "\n",
    "\\begin{equation}\n",
    "\\begin{pmatrix} h_1(s,t)\\\\ h_2(s,t)\\\\ h_3(s,t)\\end{pmatrix} = \n",
    "\\begin{pmatrix}\n",
    "1&0&0\\\\\n",
    "0&1&0\\\\\n",
    "-\\frac{a''_{12}(s)}{g(s)}& -\\frac{a^*_{22}(s)}{g(s)} & \\frac{1}{g(s)} \n",
    "\\end{pmatrix}\\cdot \n",
    "\\big( \\alpha_1(t) \\\n",
    "\\alpha_2(t)\\big)\\cdot \\begin{pmatrix}\n",
    "\\nu_1(s,t)\\\\\n",
    "\\nu_2(s,t)\n",
    "\\end{pmatrix},\n",
    "\\end{equation}\n",
    "\n",
    "\\begin{equation}\\label{hh}\n",
    "    \\begin{pmatrix} h_1(s,t)\\\\ h_2(s,t)\\\\ h_3(s,t)\\end{pmatrix} = \n",
    "\\begin{pmatrix}\n",
    "\\alpha_{11}(t)&\\alpha_{21}(t)\\\\\n",
    "\\alpha_{12}(t)&\\alpha_{22}(t)\\\\\n",
    "\\mathcal{D}_1/g(s)\n",
    "& \n",
    "\\mathcal{D}_2/g(s)\n",
    "\\end{pmatrix}\\cdot \n",
    " \\begin{pmatrix}\n",
    "\\nu_1(s,t)\\\\\n",
    "\\nu_2(s,t)\n",
    "\\end{pmatrix}.\n",
    "\\end{equation}\n",
    "\n",
    "\n",
    "where $\\mathcal{D}_1=-a''_{12}(s)\\alpha_{11}(t) -a^*_{22}(s)\\alpha_{12}(t)+ \\alpha_{13}(t)$ and $\\mathcal{D}_2=-a''_{12}(s)\\alpha_{21}(t) -a^*_{22}(s)\\alpha_{22}(t)+ \\alpha_{23}(t)$.\n",
    "\n",
    "\n",
    "This is equivalent to requiring that \n",
    "$\\mathcal{D}_1\\nu_1(s,t)+ \\mathcal{D}_2\\nu_2(s,t)$\n",
    "being a multiple of $g(s),$ i.e. there exists $\\nu_3(s,t)\\in\\mathbb{K}[s,t]$ such that\n",
    "\n",
    "$$ \\mathcal{D}_1\\nu_1(s,t)+ \\mathcal{D}_2\\nu_2(s,t)+g(s)\\nu_3(s,t)=0.\n",
    "$$\n",
    "\n",
    "\n",
    "Let\n",
    "$$X_i(s,t)=(x_{i1}(s,t),x_{i2}(s,t),x_{i3}(s,t)),\\, i=1,2.\n",
    "$$\n",
    "be the $\\mu-$basis of \\begin{equation}\n",
    "(a''_{12}(s)\\alpha_{11}(t)+a^*_{22}(s)\\alpha_{12}(t)-\\alpha_{13}(t),\n",
    "a''_{12}(s)\\alpha_{21}(t)+a^*_{22}(s)\\alpha_{22}(t)-\\alpha_{23}(t), \n",
    "g(s))\\end{equation}\n",
    "\n"
   ]
  },
  {
   "cell_type": "markdown",
   "id": "bf03e80a",
   "metadata": {},
   "source": [
    "Let\n",
    "\\begin{equation}\\label{ele}\n",
    "L_i(s,t):=\\sum_{j=1}^3L_{ij}(s,t)M^j(s)\\in \\mbox{Syz}(P(s,t)), \\ \\ i=1,2.\n",
    "\\end{equation}\n",
    "Then \\{$L_1(s,t),\\, L_2(s,t),\\, M^4(s)\\}$ will give the $\\mu-$basis of the parametrization where $M^4(s) will be the fourth column of $M(s)$"
   ]
  },
  {
   "cell_type": "markdown",
   "id": "7e594987",
   "metadata": {},
   "source": [
    "The following function $\\textbf{mu_basis_two}$ will give the $\\mu-$ basis when degree of t=2"
   ]
  },
  {
   "cell_type": "code",
   "execution_count": 19,
   "id": "086a7a36",
   "metadata": {},
   "outputs": [],
   "source": [
    "def mu_basis_two(P):\n",
    "    matrix_good_conditioning, matrix_P,matrix_to_multiply,reduced_matrix=reduce(P)\n",
    "    \n",
    "    if det(reduced_matrix[:reduced_matrix.nrows(),:reduced_matrix.nrows()])==0:\n",
    "        return mu_det_zero(P)\n",
    "    else:\n",
    "        n=reduced_matrix.nrows()\n",
    "        parametrization=P\n",
    "        Pm=matrix_to_multiply\n",
    "        new_parametrization=[]\n",
    "        value=reduced_matrix[1,1]\n",
    "        if reduced_matrix[1,1]!=1:\n",
    "            g=1\n",
    "        else:\n",
    "            g=0\n",
    "        if g==1:\n",
    "            for i in range(0,reduced_matrix.nrows()):\n",
    "                if i==0:\n",
    "                    new_parametrization.append((P*matrix_to_multiply)[i])\n",
    "                else:\n",
    "                    new_parametrization.append((P*matrix_to_multiply)[i]/reduced_matrix[1,1])\n",
    "\n",
    "            matrix_good_conditioning, matrix_P,matrix_to_multiply,reduced_matrix=reduce(new_parametrization)\n",
    "            parametrization=new_parametrization\n",
    "\n",
    "        \n",
    "\n",
    "        if det(reduced_matrix[:reduced_matrix.nrows(),:reduced_matrix.nrows()])!=0:\n",
    "            \n",
    "            Phi=vector([1,t,t^2])*(matrix_good_conditioning.inverse())\n",
    "            matrix_to_multiply_inter=identity_matrix(SR,len(parametrization))\n",
    "            matrix_to_multiply_inter[1,0]=-reduced_matrix[1,0]\n",
    "            final_matrix_to_multiply=matrix_to_multiply*matrix_to_multiply_inter\n",
    "            B1=(matrix_good_conditioning*matrix_P*final_matrix_to_multiply).simplify_full()\n",
    "            \n",
    "            #mu basis of phi\n",
    "            m1=Matrix(Phi,t)\n",
    "            GJ=GaussJordan(m1,len(Phi)) \n",
    "            mu_phi=GJ[0].subs(s=t)\n",
    "\n",
    "\n",
    "            g11=B1[2,2]\n",
    "            matrix_inverse=B1[:B1.nrows(),:B1.nrows()].inverse()\n",
    "            matrix_linear_combination=matrix_inverse*mu_phi\n",
    "            Param=vector([matrix_linear_combination[2,0]*g11,matrix_linear_combination[2,1]*g11,g11])\n",
    "            mu_linear_combination=mu_basis_one(Param)[0]\n",
    "            vector_syzygy_1=(matrix_inverse*mu_phi*mu_linear_combination[:-1,:-1]).simplify_full()\n",
    "            vector_syzygy_2=(matrix_inverse*mu_phi*mu_linear_combination[:-1,1:]).simplify_full()\n",
    "\n",
    "            mu_basis=zero_matrix(SR,len(parametrization),len(parametrization)-1)\n",
    "            for i in range(0,final_matrix_to_multiply.ncols()-2):\n",
    "                if i==0:\n",
    "                    mu_basis[:,i]=mu_basis[:,i]+matrix([(vector_syzygy_1[0,0]*final_matrix_to_multiply.column(0))+(vector_syzygy_1[1,0]*final_matrix_to_multiply.column(1))+(vector_syzygy_1[2,0]*final_matrix_to_multiply.column(2))]).transpose()\n",
    "                    mu_basis[:,i+1]=mu_basis[:,i+1]+matrix([(vector_syzygy_2[0,0]*final_matrix_to_multiply.column(0))+(vector_syzygy_2[1,0]*final_matrix_to_multiply.column(1))+(vector_syzygy_2[2,0]*final_matrix_to_multiply.column(2))]).transpose()\n",
    "                else:\n",
    "                    mu_basis[:,i+1]=mu_basis[:,i+1]+(final_matrix_to_multiply[:,i+2])\n",
    "\n",
    "\n",
    "        elif det(reduced_matrix[:reduced_matrix.nrows(),:reduced_matrix.nrows()])==0:\n",
    "            mu_basis=mu_det_zero(parametrization)\n",
    "        if g==1:\n",
    "            muvector_syzygy_1=mu_basis.with_rescaled_row(0,value)\n",
    "            mu_basis_new=Pm[:,:n]*muvector_syzygy_1\n",
    "            if (len(P)-n)!=0:\n",
    "                mu_basis_new=block_matrix(SR,[[(mu_basis_new),matrix(4,1,Pm.column(-1))]], subdivide=False)\n",
    "            return mu_basis_new\n",
    "        elif g==0:\n",
    "            return mu_basis\n",
    "\n"
   ]
  },
  {
   "cell_type": "code",
   "execution_count": 96,
   "id": "912c9240",
   "metadata": {},
   "outputs": [],
   "source": [
    "def muBasis(P):   \n",
    "    if deg(P,t)==0:\n",
    "        return mu_basis_zero(P)\n",
    "    elif deg(P,t)==1:\n",
    "        return mu_basis_one(P)[0]\n",
    "    elif deg(P,t)==2:\n",
    "        return mu_basis_two(P)\n",
    "    else:\n",
    "        print(\"Degree of t greater than 2. We are working on it :)\")"
   ]
  },
  {
   "cell_type": "code",
   "execution_count": 21,
   "id": "657d2849",
   "metadata": {},
   "outputs": [
    {
     "name": "stdout",
     "output_type": "stream",
     "text": [
      "--- 2.5673985481262207 seconds ---\n"
     ]
    }
   ],
   "source": [
    "import time\n",
    "start_time = time.time()\n",
    "var('s,t')\n",
    "P=vector([4*s^3+s*t^2+4*s^2-12*s*t+t^2+s+1, 4*s^4+s^2*t^2+s^2+6*t,6*t^2, 4*s^2+t^2+1])\n",
    "mu=muBasis(P)\n",
    "time=(time.time() - start_time)\n",
    "print(\"--- %s seconds ---\" % time)"
   ]
  },
  {
   "cell_type": "code",
   "execution_count": 22,
   "id": "61d48bb8",
   "metadata": {},
   "outputs": [
    {
     "data": {
      "text/plain": [
       "[                                                                                                                                                   -1/13812*(160*s^3 - 44*s^2 - 63*s - 69)*(4*s^2 + 1) + 1/13812*(640*s^4 - 176*s^3 + 68*s^2 - 44*s + 1151*t - 23)*s                                                                                    1/1228800*(640*s^4 - 176*s^3 + 68*s^2 - 44*s - 1151*t - 23)*(160*s^3 - 44*s^2 - 63*s - 69) - 1/1228800*(102400*s^6 - 56320*s^5 + 3904*s^4 - 5984*s^3 - 3308*s^2 + 2024*s + 529)*s                                                                                                                                                                                                                                                                 -1/2]\n",
       "[                                                                                                                                              -80/3453*s^4 + 22/3453*s^3 + 1/13812*(160*s^2 + 116*s - 587)*(4*s^2 + 1) - 17/6906*s^2 + 11/6906*s - 1/24*t + 23/27624                                                                             1/24*s^6 - 11/480*s^5 + 61/38400*s^4 - 187/76800*s^3 - 1/1228800*(640*s^4 - 176*s^3 + 68*s^2 - 44*s - 1151*t - 23)*(160*s^2 + 116*s - 587) - 827/614400*s^2 + 253/307200*s + 529/2457600                                                                                                                                                                                                                                                                   -s]\n",
       "[                                                                                                                         1/6906*(640*s^4 - 176*s^3 + 68*s^2 - 44*s + 1151*t - 23)*s^2 - 1/27624*(640*s^4 - 176*s^3 - 92*s^2 - 1151)*(4*s^2 + 1) - 1/24*(4*s^2 + 1)*t -1/614400*(102400*s^6 - 56320*s^5 + 3904*s^4 - 5984*s^3 - 3308*s^2 + 2024*s + 529)*s^2 + 1/2457600*(640*s^4 - 176*s^3 + 68*s^2 - 44*s - 1151*t - 23)*(640*s^4 - 176*s^3 - 92*s^2 - 1151) + 1151/1228800*(320*s^4 - 88*s^3 + 34*s^2 - 22*s - 587)*t + 1324801/2457600                                                                                                                                                                                                                                                                    0]\n",
       "[                                                                                                                                                                                          -1/27624*(640*s^4 - 176*s^3 + 68*s^2 - 44*s + 1151*t - 23)*(s^2 + 2*s - 6)                                                                                                                                                                   1/2457600*(102400*s^6 - 56320*s^5 + 3904*s^4 - 5984*s^3 - 3308*s^2 + 2024*s + 529)*(s^2 + 2*s - 6)                                                                                                                                                                                                                                                    s^3 + 1/2*s + 1/2]"
      ]
     },
     "execution_count": 22,
     "metadata": {},
     "output_type": "execute_result"
    }
   ],
   "source": [
    "mu"
   ]
  },
  {
   "cell_type": "code",
   "execution_count": 23,
   "id": "f2ffddc3",
   "metadata": {},
   "outputs": [
    {
     "data": {
      "text/plain": [
       "(0, 0, 0)"
      ]
     },
     "execution_count": 23,
     "metadata": {},
     "output_type": "execute_result"
    }
   ],
   "source": [
    "(P*mu).simplify_full()"
   ]
  },
  {
   "cell_type": "code",
   "execution_count": 24,
   "id": "37e8fb97",
   "metadata": {},
   "outputs": [
    {
     "data": {
      "text/plain": [
       "[                                                                                                                                                   -1/13812*(160*s^3 - 44*s^2 - 63*s - 69)*(4*s^2 + 1) + 1/13812*(640*s^4 - 176*s^3 + 68*s^2 - 44*s + 1151*t - 23)*s                                                                                    1/1228800*(640*s^4 - 176*s^3 + 68*s^2 - 44*s - 1151*t - 23)*(160*s^3 - 44*s^2 - 63*s - 69) - 1/1228800*(102400*s^6 - 56320*s^5 + 3904*s^4 - 5984*s^3 - 3308*s^2 + 2024*s + 529)*s                                                                                                                                                                                                                                                                 -1/2]\n",
       "[                                                                                                                                              -80/3453*s^4 + 22/3453*s^3 + 1/13812*(160*s^2 + 116*s - 587)*(4*s^2 + 1) - 17/6906*s^2 + 11/6906*s - 1/24*t + 23/27624                                                                             1/24*s^6 - 11/480*s^5 + 61/38400*s^4 - 187/76800*s^3 - 1/1228800*(640*s^4 - 176*s^3 + 68*s^2 - 44*s - 1151*t - 23)*(160*s^2 + 116*s - 587) - 827/614400*s^2 + 253/307200*s + 529/2457600                                                                                                                                                                                                                                                                   -s]\n",
       "[                                                                                                                         1/6906*(640*s^4 - 176*s^3 + 68*s^2 - 44*s + 1151*t - 23)*s^2 - 1/27624*(640*s^4 - 176*s^3 - 92*s^2 - 1151)*(4*s^2 + 1) - 1/24*(4*s^2 + 1)*t -1/614400*(102400*s^6 - 56320*s^5 + 3904*s^4 - 5984*s^3 - 3308*s^2 + 2024*s + 529)*s^2 + 1/2457600*(640*s^4 - 176*s^3 + 68*s^2 - 44*s - 1151*t - 23)*(640*s^4 - 176*s^3 - 92*s^2 - 1151) + 1151/1228800*(320*s^4 - 88*s^3 + 34*s^2 - 22*s - 587)*t + 1324801/2457600                                                                                                                                                                                                                                                                    0]\n",
       "[                                                                                                                                                                                          -1/27624*(640*s^4 - 176*s^3 + 68*s^2 - 44*s + 1151*t - 23)*(s^2 + 2*s - 6)                                                                                                                                                                   1/2457600*(102400*s^6 - 56320*s^5 + 3904*s^4 - 5984*s^3 - 3308*s^2 + 2024*s + 529)*(s^2 + 2*s - 6)                                                                                                                                                                                                                                                    s^3 + 1/2*s + 1/2]"
      ]
     },
     "execution_count": 24,
     "metadata": {},
     "output_type": "execute_result"
    }
   ],
   "source": [
    "mu"
   ]
  },
  {
   "cell_type": "code",
   "execution_count": 25,
   "id": "911c5780",
   "metadata": {
    "scrolled": true
   },
   "outputs": [
    {
     "data": {
      "text/plain": [
       "(1, 1, 0)"
      ]
     },
     "execution_count": 25,
     "metadata": {},
     "output_type": "execute_result"
    }
   ],
   "source": [
    "deg(mu.column(0),t),deg(mu.column(1),t),deg(mu.column(2),t)"
   ]
  },
  {
   "cell_type": "code",
   "execution_count": 26,
   "id": "fedca0e2",
   "metadata": {},
   "outputs": [
    {
     "data": {
      "text/plain": [
       "[1324801/117964800, -1324801/117964800, 1324801/117964800, -1324801/117964800]"
      ]
     },
     "execution_count": 26,
     "metadata": {},
     "output_type": "execute_result"
    }
   ],
   "source": [
    "#shows that the minors are just multiples of parametrization\n",
    "[((mu.minors(len(P)-1)[i])/P[len(P)-i-1]).simplify_full() for i in range(0,len(P))]"
   ]
  },
  {
   "cell_type": "code",
   "execution_count": null,
   "id": "17dcd8ab",
   "metadata": {},
   "outputs": [],
   "source": []
  },
  {
   "cell_type": "code",
   "execution_count": null,
   "id": "98dc3614",
   "metadata": {},
   "outputs": [],
   "source": []
  },
  {
   "cell_type": "code",
   "execution_count": 27,
   "id": "839d4d5c",
   "metadata": {
    "scrolled": false
   },
   "outputs": [
    {
     "name": "stdout",
     "output_type": "stream",
     "text": [
      "--- 0.3375687599182129 seconds ---\n"
     ]
    }
   ],
   "source": [
    "import time\n",
    "start_time = time.time()\n",
    "var('s,t')\n",
    "P1=vector([s^2+t^2,2*s*t, s^2-t^2])\n",
    "mu1=muBasis(P1)\n",
    "time=(time.time() - start_time)\n",
    "print(\"--- %s seconds ---\" % time)"
   ]
  },
  {
   "cell_type": "code",
   "execution_count": 28,
   "id": "36771e81",
   "metadata": {},
   "outputs": [
    {
     "data": {
      "text/plain": [
       "(0, 0)"
      ]
     },
     "execution_count": 28,
     "metadata": {},
     "output_type": "execute_result"
    }
   ],
   "source": [
    "(P1*mu1).simplify_full()"
   ]
  },
  {
   "cell_type": "code",
   "execution_count": 29,
   "id": "4cf79fdc",
   "metadata": {},
   "outputs": [
    {
     "data": {
      "text/plain": [
       "(1, 1)"
      ]
     },
     "execution_count": 29,
     "metadata": {},
     "output_type": "execute_result"
    }
   ],
   "source": [
    "deg(mu1.column(0),t),deg(mu1.column(1),t)"
   ]
  },
  {
   "cell_type": "code",
   "execution_count": 30,
   "id": "3a7f689b",
   "metadata": {
    "scrolled": true
   },
   "outputs": [
    {
     "data": {
      "text/plain": [
       "[-1/4, 1/4, -1/4]"
      ]
     },
     "execution_count": 30,
     "metadata": {},
     "output_type": "execute_result"
    }
   ],
   "source": [
    "[((mu1.minors(len(P1)-1)[i])/P1[len(P1)-i-1]).simplify_full() for i in range(0,len(P1))]"
   ]
  },
  {
   "cell_type": "code",
   "execution_count": null,
   "id": "20012f9e",
   "metadata": {},
   "outputs": [],
   "source": []
  },
  {
   "cell_type": "code",
   "execution_count": null,
   "id": "1b3a87cd",
   "metadata": {},
   "outputs": [],
   "source": []
  },
  {
   "cell_type": "markdown",
   "id": "0c79c652",
   "metadata": {},
   "source": [
    "#### Examples from \"BOUNDS FOR DEGREES OF SYZYGIES OF POLYNOMIALS DEFINING A GRADE TWO IDEAL\"-Teresa Cortadellas Benitez, Carlos D'Andrea, Eulalia Montoro"
   ]
  },
  {
   "cell_type": "code",
   "execution_count": 31,
   "id": "14a73f08",
   "metadata": {},
   "outputs": [
    {
     "name": "stdout",
     "output_type": "stream",
     "text": [
      "--- 0.2807633876800537 seconds ---\n"
     ]
    }
   ],
   "source": [
    "import time\n",
    "start_time = time.time()\n",
    "var('s,t')\n",
    "P2=vector([11-4*s+3*s^2+4*t, 5-4*s+2*s^2+4*t-2*s*t+t^2, 1+3*s^2-s^3+s^2*t,7-3*s+s^2+3*t])\n",
    "mu2=muBasis(P2)\n",
    "\n",
    "time=(time.time() - start_time)\n",
    "print(\"--- %s seconds ---\" % time)"
   ]
  },
  {
   "cell_type": "code",
   "execution_count": 32,
   "id": "9d438eac",
   "metadata": {},
   "outputs": [
    {
     "data": {
      "text/plain": [
       "[-1/61*(8*s^2 - 50*s + 51)*t^2 - 2/61*(48*s^2 - 79*s - 189)*t - 480/61*s + 1035/61                            4*s^2 + 1/24*(8*s^2 - 50*s + 51)*t - 259/24*s - 109/24                                                                      -1/3*s^2 + 1]\n",
       "[           120/61*s^2 + 1/61*(24*s^3 - 42*s^2 - 92*s - 129)*t - 145/61*s - 170/61                                                    -s^3 + 7/4*s^2 + 23/6*s + 43/8                                                                                 0]\n",
       "[          -2/61*(12*s - 37)*t^2 + 4/61*(12*s^2 - 45*s - 46)*t + 240/61*s - 770/61                                        -2*s^2 + 1/12*(12*s - 37)*t + 15/2*s + 8/3                                                                              -5/3]\n",
       "[         -3/61*(12*s - 37)*t^2 + 6/61*(24*s^2 - 29*s - 62)*t + 720/61*s - 1395/61                                      -6*s^2 + 1/8*(12*s - 37)*t + 119/8*s + 35/12                                                                         s^2 - 4/3]"
      ]
     },
     "execution_count": 32,
     "metadata": {},
     "output_type": "execute_result"
    }
   ],
   "source": [
    "(mu2).simplify_full()"
   ]
  },
  {
   "cell_type": "code",
   "execution_count": 33,
   "id": "ba570029",
   "metadata": {
    "scrolled": true
   },
   "outputs": [
    {
     "data": {
      "text/plain": [
       "(0, 0, 0)"
      ]
     },
     "execution_count": 33,
     "metadata": {},
     "output_type": "execute_result"
    }
   ],
   "source": [
    "(P2*mu2).simplify_full()"
   ]
  },
  {
   "cell_type": "code",
   "execution_count": 34,
   "id": "ae7ddab2",
   "metadata": {},
   "outputs": [
    {
     "data": {
      "text/plain": [
       "(2, 1, 0)"
      ]
     },
     "execution_count": 34,
     "metadata": {},
     "output_type": "execute_result"
    }
   ],
   "source": [
    "deg(mu2.column(0),t),deg(mu2.column(1),t),deg(mu2.column(2),t)"
   ]
  },
  {
   "cell_type": "code",
   "execution_count": 35,
   "id": "427841d9",
   "metadata": {},
   "outputs": [
    {
     "data": {
      "text/plain": [
       "[-725/72, 725/72, -725/72, 725/72]"
      ]
     },
     "execution_count": 35,
     "metadata": {},
     "output_type": "execute_result"
    }
   ],
   "source": [
    "[((mu2.minors(len(P2)-1)[i])/P2[len(P2)-i-1]).simplify_full() for i in range(0,len(P2))]"
   ]
  },
  {
   "cell_type": "code",
   "execution_count": null,
   "id": "29663537",
   "metadata": {},
   "outputs": [],
   "source": []
  },
  {
   "cell_type": "markdown",
   "id": "97564c46",
   "metadata": {},
   "source": [
    "#### Some more examples"
   ]
  },
  {
   "cell_type": "code",
   "execution_count": 36,
   "id": "1df1cb39",
   "metadata": {},
   "outputs": [
    {
     "name": "stdout",
     "output_type": "stream",
     "text": [
      "--- 0.3372814655303955 seconds ---\n"
     ]
    }
   ],
   "source": [
    "import time\n",
    "start_time = time.time()\n",
    "var('s,t')\n",
    "P3=vector([s+3*s^2+t+4*s*t-t^2, -s^2+t+t^2, s+2*s^2-2*t^2, 1+s-t])\n",
    "mu3=muBasis(P3)\n",
    "\n",
    "time=(time.time() - start_time)\n",
    "print(\"--- %s seconds ---\" % time)"
   ]
  },
  {
   "cell_type": "code",
   "execution_count": 37,
   "id": "f0f966cf",
   "metadata": {},
   "outputs": [
    {
     "data": {
      "text/plain": [
       "[                     -1/24*(4*s + 7)*t + 1/6*t^2 + 1/24                                    -1/6*s + 1/6*t + 1/8                                                    -1/2]\n",
       "[                            1/8*(4*s + 3)*t + t^2 - 1/8                                        -7/6*s + t + 1/8                                               2*s + 1/2]\n",
       "[                     5/24*(4*s + 5)*t + 5/12*t^2 - 5/24                                          5/12*t + 17/24                                                 s + 1/2]\n",
       "[-1/12*(4*s + 3)*t^2 - 1/12*(8*s^2 + 10*s - 1)*t + 1/6*s                     -2/3*s^2 - 1/12*(4*s + 3)*t - 5/6*s                                                       0]"
      ]
     },
     "execution_count": 37,
     "metadata": {},
     "output_type": "execute_result"
    }
   ],
   "source": [
    "(mu3).simplify_full()"
   ]
  },
  {
   "cell_type": "code",
   "execution_count": 38,
   "id": "92f3452e",
   "metadata": {},
   "outputs": [
    {
     "data": {
      "text/plain": [
       "(0, 0, 0)"
      ]
     },
     "execution_count": 38,
     "metadata": {},
     "output_type": "execute_result"
    }
   ],
   "source": [
    "(P3*mu3).simplify_full()"
   ]
  },
  {
   "cell_type": "code",
   "execution_count": 39,
   "id": "d2911d94",
   "metadata": {},
   "outputs": [
    {
     "data": {
      "text/plain": [
       "(2, 1, 0)"
      ]
     },
     "execution_count": 39,
     "metadata": {},
     "output_type": "execute_result"
    }
   ],
   "source": [
    "deg(mu3.column(0),t),deg(mu3.column(1),t),deg(mu3.column(2),t)"
   ]
  },
  {
   "cell_type": "code",
   "execution_count": 40,
   "id": "f5e67fcd",
   "metadata": {
    "scrolled": true
   },
   "outputs": [
    {
     "data": {
      "text/plain": [
       "[1/72, -1/72, 1/72, -1/72]"
      ]
     },
     "execution_count": 40,
     "metadata": {},
     "output_type": "execute_result"
    }
   ],
   "source": [
    "[((mu3.minors(len(P3)-1)[i])/P3[len(P3)-i-1]).simplify_full() for i in range(0,len(P3))]"
   ]
  },
  {
   "cell_type": "code",
   "execution_count": null,
   "id": "93dab64d",
   "metadata": {},
   "outputs": [],
   "source": []
  },
  {
   "cell_type": "code",
   "execution_count": 41,
   "id": "3fdcf903",
   "metadata": {},
   "outputs": [
    {
     "name": "stdout",
     "output_type": "stream",
     "text": [
      "--- 0.1404571533203125 seconds ---\n"
     ]
    },
    {
     "data": {
      "text/plain": [
       "[ 1/2*t   -1/2      0]\n",
       "[   1/2  1/2*t      0]\n",
       "[     0      0     -1]\n",
       "[-1/2*t   -1/2      s]"
      ]
     },
     "execution_count": 41,
     "metadata": {},
     "output_type": "execute_result"
    }
   ],
   "source": [
    "#radius 1 cylinder with axis (0,0,1)\n",
    "\n",
    "import time\n",
    "start_time = time.time()\n",
    "var('s,t')\n",
    "P4=vector([t^2 - 1, 2*t, s*t^2 + s, t^2 + 1])\n",
    "mu4=muBasis(P4)\n",
    "\n",
    "time=(time.time() - start_time)\n",
    "print(\"--- %s seconds ---\" % time)\n",
    "mu4"
   ]
  },
  {
   "cell_type": "code",
   "execution_count": 42,
   "id": "2a1b0670",
   "metadata": {},
   "outputs": [
    {
     "data": {
      "text/plain": [
       "(t^2 - 1, 2*t, s*t^2 + s, t^2 + 1)"
      ]
     },
     "execution_count": 42,
     "metadata": {},
     "output_type": "execute_result"
    }
   ],
   "source": [
    "P4"
   ]
  },
  {
   "cell_type": "code",
   "execution_count": 43,
   "id": "1c6a0318",
   "metadata": {},
   "outputs": [
    {
     "data": {
      "text/plain": [
       "(0, 0, 0)"
      ]
     },
     "execution_count": 43,
     "metadata": {},
     "output_type": "execute_result"
    }
   ],
   "source": [
    "\n",
    "(P4*mu4).simplify_full()"
   ]
  },
  {
   "cell_type": "code",
   "execution_count": 44,
   "id": "89d2a9e6",
   "metadata": {},
   "outputs": [
    {
     "data": {
      "text/plain": [
       "[ 1/2*t   -1/2      0]\n",
       "[   1/2  1/2*t      0]\n",
       "[     0      0     -1]\n",
       "[-1/2*t   -1/2      s]"
      ]
     },
     "execution_count": 44,
     "metadata": {},
     "output_type": "execute_result"
    }
   ],
   "source": [
    "mu4"
   ]
  },
  {
   "cell_type": "code",
   "execution_count": 45,
   "id": "ab0adb0d",
   "metadata": {
    "scrolled": true
   },
   "outputs": [
    {
     "data": {
      "text/plain": [
       "(1, 1, 0)"
      ]
     },
     "execution_count": 45,
     "metadata": {},
     "output_type": "execute_result"
    }
   ],
   "source": [
    "deg(mu4.column(0),t),deg(mu4.column(1),t),deg(mu4.column(2),t)"
   ]
  },
  {
   "cell_type": "code",
   "execution_count": 46,
   "id": "21cfb148",
   "metadata": {
    "scrolled": true
   },
   "outputs": [
    {
     "data": {
      "text/plain": [
       "[-1/4, 1/4, -1/4, 1/4]"
      ]
     },
     "execution_count": 46,
     "metadata": {},
     "output_type": "execute_result"
    }
   ],
   "source": [
    "[((mu4.minors(len(P4)-1)[i])/P4[len(P4)-i-1]).simplify_full() for i in range(0,len(P4))]"
   ]
  },
  {
   "cell_type": "code",
   "execution_count": null,
   "id": "5787898c",
   "metadata": {},
   "outputs": [],
   "source": []
  },
  {
   "cell_type": "code",
   "execution_count": null,
   "id": "1ea32302",
   "metadata": {},
   "outputs": [],
   "source": []
  },
  {
   "cell_type": "code",
   "execution_count": 47,
   "id": "2f4c9e23",
   "metadata": {},
   "outputs": [
    {
     "name": "stdout",
     "output_type": "stream",
     "text": [
      "--- 0.15317535400390625 seconds ---\n"
     ]
    }
   ],
   "source": [
    "import time\n",
    "start_time = time.time()\n",
    "var('s,t')\n",
    "P5=vector([s^2+t^2+s*t,2*s*t+t^2, s^2-t^2])\n",
    "mu5=muBasis(P5)\n",
    "\n",
    "time=(time.time() - start_time)\n",
    "print(\"--- %s seconds ---\" % time)"
   ]
  },
  {
   "cell_type": "code",
   "execution_count": 48,
   "id": "af3b44bc",
   "metadata": {},
   "outputs": [
    {
     "data": {
      "text/plain": [
       "(0, 0)"
      ]
     },
     "execution_count": 48,
     "metadata": {},
     "output_type": "execute_result"
    }
   ],
   "source": [
    "(P5*mu5).simplify_full()"
   ]
  },
  {
   "cell_type": "code",
   "execution_count": 49,
   "id": "ae5acf0e",
   "metadata": {},
   "outputs": [
    {
     "data": {
      "text/plain": [
       "(1, 1)"
      ]
     },
     "execution_count": 49,
     "metadata": {},
     "output_type": "execute_result"
    }
   ],
   "source": [
    "deg(mu5.column(0),t),deg(mu5.column(1),t)"
   ]
  },
  {
   "cell_type": "code",
   "execution_count": 50,
   "id": "3f872163",
   "metadata": {},
   "outputs": [
    {
     "data": {
      "text/plain": [
       "[-1/3, 1/3, -1/3]"
      ]
     },
     "execution_count": 50,
     "metadata": {},
     "output_type": "execute_result"
    }
   ],
   "source": [
    "[((mu5.minors(len(P5)-1)[i])/P5[len(P5)-i-1]).simplify_full() for i in range(0,len(P5))]"
   ]
  },
  {
   "cell_type": "code",
   "execution_count": 51,
   "id": "35409355",
   "metadata": {},
   "outputs": [
    {
     "data": {
      "text/plain": [
       "[   2/3*s^2 + 1/3*(s + 2)*t + 1/3*s                     -2/3*s - 1/3*t]\n",
       "[-1/3*s^2 - 1/3*(2*s + 1)*t - 2/3*s                      1/3*s + 2/3*t]\n",
       "[  -2/3*s^2 - 1/3*(s - 1)*t - 1/3*s                      2/3*s + 1/3*t]"
      ]
     },
     "execution_count": 51,
     "metadata": {},
     "output_type": "execute_result"
    }
   ],
   "source": [
    "mu5.simplify_full()"
   ]
  },
  {
   "cell_type": "code",
   "execution_count": null,
   "id": "aef31709",
   "metadata": {},
   "outputs": [],
   "source": []
  },
  {
   "cell_type": "code",
   "execution_count": null,
   "id": "92075dfc",
   "metadata": {},
   "outputs": [],
   "source": []
  },
  {
   "cell_type": "code",
   "execution_count": 52,
   "id": "656e0c95",
   "metadata": {},
   "outputs": [
    {
     "name": "stdout",
     "output_type": "stream",
     "text": [
      "--- 0.15256810188293457 seconds ---\n"
     ]
    }
   ],
   "source": [
    "#g=1, len(P)=4\n",
    "import time\n",
    "start_time = time.time()\n",
    "var('s,t')\n",
    "P6=vector([s^2+t^2,2*s*t,2*t^2, s^2-t^2])\n",
    "mu6=muBasis(P6)\n",
    "\n",
    "time=(time.time() - start_time)\n",
    "print(\"--- %s seconds ---\" % time)\n"
   ]
  },
  {
   "cell_type": "code",
   "execution_count": 53,
   "id": "74dae364",
   "metadata": {},
   "outputs": [
    {
     "data": {
      "text/plain": [
       "[                                t                                 0                                -1]\n",
       "[                 -1/2*s*t - 1/2*s                             1/2*t                                 0]\n",
       "[1/2*(s*t + s)*s - 1/2*(s^2 + 1)*t           1/2*s*(t - 1) - 1/2*s*t                                 1]\n",
       "[                                0                                 0                                 1]"
      ]
     },
     "execution_count": 53,
     "metadata": {},
     "output_type": "execute_result"
    }
   ],
   "source": [
    "mu6"
   ]
  },
  {
   "cell_type": "code",
   "execution_count": 54,
   "id": "b3c74d4e",
   "metadata": {},
   "outputs": [
    {
     "data": {
      "text/plain": [
       "(0, 0, 0)"
      ]
     },
     "execution_count": 54,
     "metadata": {},
     "output_type": "execute_result"
    }
   ],
   "source": [
    "(P6*mu6).simplify_full()"
   ]
  },
  {
   "cell_type": "code",
   "execution_count": 55,
   "id": "2f9367fa",
   "metadata": {},
   "outputs": [
    {
     "data": {
      "text/plain": [
       "(1, 1, 0)"
      ]
     },
     "execution_count": 55,
     "metadata": {},
     "output_type": "execute_result"
    }
   ],
   "source": [
    "deg(mu6.column(0),t),deg(mu6.column(1),t),deg(mu6.column(2),t)"
   ]
  },
  {
   "cell_type": "code",
   "execution_count": 56,
   "id": "ce62632d",
   "metadata": {},
   "outputs": [
    {
     "data": {
      "text/plain": [
       "[-1/4, 1/4, -1/4, 1/4]"
      ]
     },
     "execution_count": 56,
     "metadata": {},
     "output_type": "execute_result"
    }
   ],
   "source": [
    "[((mu6.minors(len(P6)-1)[i])/P6[len(P6)-i-1]).simplify_full() for i in range(0,len(P6))]"
   ]
  },
  {
   "cell_type": "code",
   "execution_count": null,
   "id": "183dd9e2",
   "metadata": {},
   "outputs": [],
   "source": []
  },
  {
   "cell_type": "code",
   "execution_count": null,
   "id": "26312d86",
   "metadata": {},
   "outputs": [],
   "source": []
  },
  {
   "cell_type": "code",
   "execution_count": 57,
   "id": "b9f2ba51",
   "metadata": {
    "scrolled": true
   },
   "outputs": [
    {
     "name": "stdout",
     "output_type": "stream",
     "text": [
      "--- 0.03780245780944824 seconds ---\n"
     ]
    },
    {
     "data": {
      "text/plain": [
       "[-1/2*t^2 - 1/2          s + 1]\n",
       "[             0             -2]\n",
       "[ 1/2*t^2 - 1/2          s + 1]"
      ]
     },
     "execution_count": 57,
     "metadata": {},
     "output_type": "execute_result"
    }
   ],
   "source": [
    "#determinant B2 is zero\n",
    "import time\n",
    "start_time = time.time()\n",
    "var('s,t')\n",
    "P8=vector([t^2 - 1, s*t^2 + t^2, t^2 + 1])\n",
    "mu8=muBasis(P8)\n",
    "\n",
    "time=(time.time() - start_time)\n",
    "print(\"--- %s seconds ---\" % time)\n",
    "mu8"
   ]
  },
  {
   "cell_type": "code",
   "execution_count": 58,
   "id": "99d59653",
   "metadata": {},
   "outputs": [
    {
     "data": {
      "text/plain": [
       "(0, 0)"
      ]
     },
     "execution_count": 58,
     "metadata": {},
     "output_type": "execute_result"
    }
   ],
   "source": [
    "(P8*mu8).simplify_full()"
   ]
  },
  {
   "cell_type": "code",
   "execution_count": 59,
   "id": "433d6e00",
   "metadata": {},
   "outputs": [
    {
     "data": {
      "text/plain": [
       "[1, -1, 1]"
      ]
     },
     "execution_count": 59,
     "metadata": {},
     "output_type": "execute_result"
    }
   ],
   "source": [
    "[((mu8.minors(len(P8)-1)[i])/P8[len(P8)-i-1]).simplify_full() for i in range(0,len(P8))]"
   ]
  },
  {
   "cell_type": "code",
   "execution_count": null,
   "id": "db279f4a",
   "metadata": {},
   "outputs": [],
   "source": []
  },
  {
   "cell_type": "code",
   "execution_count": null,
   "id": "f21991be",
   "metadata": {},
   "outputs": [],
   "source": []
  },
  {
   "cell_type": "code",
   "execution_count": 60,
   "id": "a382cf4a",
   "metadata": {},
   "outputs": [
    {
     "name": "stdout",
     "output_type": "stream",
     "text": [
      "--- 0.036871910095214844 seconds ---\n"
     ]
    },
    {
     "data": {
      "text/plain": [
       "[          -1/2*(t^2 - t)*s - 1/2*(s + 1)*t - 1/2                                                s]\n",
       "[                                               0                                               -2]\n",
       "[-1/2*(t^2 - t)*s + 1/2*(s + 1)*t + t^2 - t - 1/2                                            s + 2]"
      ]
     },
     "execution_count": 60,
     "metadata": {},
     "output_type": "execute_result"
    }
   ],
   "source": [
    "#determinant of rhs is zero\n",
    "import time\n",
    "start_time = time.time()\n",
    "var('s,t')\n",
    "\n",
    "P9=vector([-(s - 2)*t^2 + (2*s - 1)*t - 1, 2*s*t^2 + (s^2 + 1)*t + 1, s*t^2 + t + 1])\n",
    "mu9=muBasis(P9)\n",
    "\n",
    "time=(time.time() - start_time)\n",
    "print(\"--- %s seconds ---\" % time)\n",
    "\n",
    "mu9"
   ]
  },
  {
   "cell_type": "code",
   "execution_count": 61,
   "id": "0ed309f1",
   "metadata": {},
   "outputs": [
    {
     "data": {
      "text/plain": [
       "(0, 0)"
      ]
     },
     "execution_count": 61,
     "metadata": {},
     "output_type": "execute_result"
    }
   ],
   "source": [
    "(P9*mu9).simplify_full()"
   ]
  },
  {
   "cell_type": "code",
   "execution_count": 62,
   "id": "a514bca4",
   "metadata": {},
   "outputs": [
    {
     "data": {
      "text/plain": [
       "[1, -1, 1]"
      ]
     },
     "execution_count": 62,
     "metadata": {},
     "output_type": "execute_result"
    }
   ],
   "source": [
    "[((mu9.minors(len(P9)-1)[i])/P9[len(P9)-i-1]).simplify_full() for i in range(0,len(P9))]"
   ]
  },
  {
   "cell_type": "code",
   "execution_count": null,
   "id": "6f6b465e",
   "metadata": {},
   "outputs": [],
   "source": []
  },
  {
   "cell_type": "code",
   "execution_count": null,
   "id": "116b8adc",
   "metadata": {},
   "outputs": [],
   "source": []
  },
  {
   "cell_type": "code",
   "execution_count": null,
   "id": "55117891",
   "metadata": {},
   "outputs": [],
   "source": []
  },
  {
   "cell_type": "markdown",
   "id": "b97c2cb3",
   "metadata": {},
   "source": [
    "##### degree 1 examples"
   ]
  },
  {
   "cell_type": "code",
   "execution_count": 63,
   "id": "bbcb4f71",
   "metadata": {},
   "outputs": [
    {
     "name": "stdout",
     "output_type": "stream",
     "text": [
      "--- 0.02483677864074707 seconds ---\n"
     ]
    },
    {
     "data": {
      "text/plain": [
       "[                             2/16875*((2*s^4 + 7*s^3 - 4*s + 31)*t + 15)*(496*s + 523) - 1/5*(s + 1)*t                                                                                          2*s + 221/421                                                                                        -2*s + 2213/842]\n",
       "[-1/15*(s^2 + 3*s + 2)*(s + 1)*t + 1/16875*(496*s^2 + 1422*s + 605)*((2*s^4 + 7*s^3 - 4*s + 31)*t + 15)                                                                              s^2 + 897/421*s - 145/421                                                                         -1/2*s^2 - 78/421*s + 2081/421]\n",
       "[                                   1/16875*(496*s^2 - 903*s - 903)*((2*s^4 + 7*s^3 - 4*s + 31)*t + 15)                                                                              s^2 - 1053/421*s + 72/421                                                                                  1922/421*s - 3289/842]\n",
       "[                                            -2/16875*((2*s^4 + 7*s^3 - 4*s + 31)*t + 15)*(589*s + 561)                                                                                   -953/421*s - 222/421                                                                            s^2 + 3369/842*s - 4629/842]"
      ]
     },
     "execution_count": 63,
     "metadata": {},
     "output_type": "execute_result"
    }
   ],
   "source": [
    "import time\n",
    "start_time = time.time()\n",
    "var('s,t')\n",
    "\n",
    "Pt=vector([s^3+2*s^2-s+3+t*(2*s^3+2*s^2-3*s+7),-3*s+3+t*(2*s^2-5*s+5),\n",
    "         -2*s^2-2*s+3+t*(-6*s^2-8*s+4),2*s^2+s+2+t*(5*s^2+4*s+5) ])\n",
    "mut=muBasis(Pt)\n",
    "\n",
    "time=(time.time() - start_time)\n",
    "print(\"--- %s seconds ---\" % time)\n",
    "\n",
    "mut"
   ]
  },
  {
   "cell_type": "code",
   "execution_count": 64,
   "id": "2f5e4a80",
   "metadata": {
    "scrolled": true
   },
   "outputs": [
    {
     "data": {
      "text/plain": [
       "(0, 0, 0)"
      ]
     },
     "execution_count": 64,
     "metadata": {},
     "output_type": "execute_result"
    }
   ],
   "source": [
    "(Pt*(mu_basis_one(Pt)[0])).simplify_full()"
   ]
  },
  {
   "cell_type": "code",
   "execution_count": 65,
   "id": "fbe5bcad",
   "metadata": {},
   "outputs": [
    {
     "data": {
      "text/plain": [
       "[-1/2, 1/2, -1/2, 1/2]"
      ]
     },
     "execution_count": 65,
     "metadata": {},
     "output_type": "execute_result"
    }
   ],
   "source": [
    "[(((mu_basis_one(Pt)[0]).minors(len(Pt)-1)[i])/Pt[len(Pt)-i-1]).simplify_full() for i in range(0,len(Pt))]"
   ]
  },
  {
   "cell_type": "code",
   "execution_count": 66,
   "id": "5a48db89",
   "metadata": {},
   "outputs": [
    {
     "data": {
      "text/plain": [
       "(1, 0, 0)"
      ]
     },
     "execution_count": 66,
     "metadata": {},
     "output_type": "execute_result"
    }
   ],
   "source": [
    "deg(mut.column(0),t),deg(mut.column(1),t),deg(mut.column(2),t)"
   ]
  },
  {
   "cell_type": "code",
   "execution_count": 67,
   "id": "4071bf40",
   "metadata": {},
   "outputs": [
    {
     "data": {
      "text/plain": [
       "[1/5981883750*((421*s^2 + 897*s - 145)*(1684*s - 2213) - (421*s^2 + 156*s - 4162)*(842*s + 221))*(496*s^2 - 903*s - 903)*((2*s^4 + 7*s^3 - 4*s + 31)*t + 15) + 1/5981883750*(1125*(s^2 + 3*s + 2)*(s + 1)*t - (496*s^2 + 1422*s + 605)*((2*s^4 + 7*s^3 - 4*s + 31)*t + 15))*((421*s^2 - 1053*s + 72)*(1684*s - 2213) + (3844*s - 3289)*(842*s + 221)) + 1/5981883750*((421*s^2 + 156*s - 4162)*(421*s^2 - 1053*s + 72) + (421*s^2 + 897*s - 145)*(3844*s - 3289))*(2*((2*s^4 + 7*s^3 - 4*s + 31)*t + 15)*(496*s + 523) - 3375*(s + 1)*t),\n",
       " -1/2990941875*((421*s^2 + 897*s - 145)*(1684*s - 2213) - (421*s^2 + 156*s - 4162)*(842*s + 221))*((2*s^4 + 7*s^3 - 4*s + 31)*t + 15)*(589*s + 561) - 1/5981883750*(1125*(s^2 + 3*s + 2)*(s + 1)*t - (496*s^2 + 1422*s + 605)*((2*s^4 + 7*s^3 - 4*s + 31)*t + 15))*((1684*s - 2213)*(953*s + 222) - (842*s^2 + 3369*s - 4629)*(842*s + 221)) + 1/5981883750*((842*s^2 + 3369*s - 4629)*(421*s^2 + 897*s - 145) - (421*s^2 + 156*s - 4162)*(953*s + 222))*(2*((2*s^4 + 7*s^3 - 4*s + 31)*t + 15)*(496*s + 523) - 3375*(s + 1)*t),\n",
       " 1/5981883750*((1684*s - 2213)*(953*s + 222) - (842*s^2 + 3369*s - 4629)*(842*s + 221))*(496*s^2 - 903*s - 903)*((2*s^4 + 7*s^3 - 4*s + 31)*t + 15) - 1/2990941875*((421*s^2 - 1053*s + 72)*(1684*s - 2213) + (3844*s - 3289)*(842*s + 221))*((2*s^4 + 7*s^3 - 4*s + 31)*t + 15)*(589*s + 561) + 1/5981883750*((842*s^2 + 3369*s - 4629)*(421*s^2 - 1053*s + 72) + (3844*s - 3289)*(953*s + 222))*(2*((2*s^4 + 7*s^3 - 4*s + 31)*t + 15)*(496*s + 523) - 3375*(s + 1)*t),\n",
       " -1/5981883750*((842*s^2 + 3369*s - 4629)*(421*s^2 + 897*s - 145) - (421*s^2 + 156*s - 4162)*(953*s + 222))*(496*s^2 - 903*s - 903)*((2*s^4 + 7*s^3 - 4*s + 31)*t + 15) - 1/2990941875*((421*s^2 + 156*s - 4162)*(421*s^2 - 1053*s + 72) + (421*s^2 + 897*s - 145)*(3844*s - 3289))*((2*s^4 + 7*s^3 - 4*s + 31)*t + 15)*(589*s + 561) - 1/5981883750*(1125*(s^2 + 3*s + 2)*(s + 1)*t - (496*s^2 + 1422*s + 605)*((2*s^4 + 7*s^3 - 4*s + 31)*t + 15))*((842*s^2 + 3369*s - 4629)*(421*s^2 - 1053*s + 72) + (3844*s - 3289)*(953*s + 222))]"
      ]
     },
     "execution_count": 67,
     "metadata": {},
     "output_type": "execute_result"
    }
   ],
   "source": [
    "mut.minors(3)"
   ]
  },
  {
   "cell_type": "code",
   "execution_count": 68,
   "id": "0d18e5b2",
   "metadata": {},
   "outputs": [
    {
     "name": "stdout",
     "output_type": "stream",
     "text": [
      "--- 0.03755068778991699 seconds ---\n"
     ]
    },
    {
     "data": {
      "text/plain": [
       "[     -1     1/2   s + 1]\n",
       "[      0       0      -2]\n",
       "[      0    -1/2   s + 1]\n",
       "[t^2 - 1       1       0]"
      ]
     },
     "execution_count": 68,
     "metadata": {},
     "output_type": "execute_result"
    }
   ],
   "source": [
    "import time\n",
    "start_time = time.time()\n",
    "var('s,t')\n",
    "\n",
    "P10=vector([t^2 - 1, s*t^2 + t^2, t^2 + 1,1])\n",
    "mu10=muBasis(P10)\n",
    "\n",
    "time=(time.time() - start_time)\n",
    "print(\"--- %s seconds ---\" % time)\n",
    "\n",
    "mu10"
   ]
  },
  {
   "cell_type": "code",
   "execution_count": 69,
   "id": "919a0514",
   "metadata": {},
   "outputs": [
    {
     "data": {
      "text/plain": [
       "(t^2 - 1, s*t^2 + t^2, t^2 + 1, 1)"
      ]
     },
     "execution_count": 69,
     "metadata": {},
     "output_type": "execute_result"
    }
   ],
   "source": [
    "P10"
   ]
  },
  {
   "cell_type": "code",
   "execution_count": 70,
   "id": "7667870b",
   "metadata": {
    "scrolled": true
   },
   "outputs": [
    {
     "data": {
      "text/plain": [
       "(0, 0, 0)"
      ]
     },
     "execution_count": 70,
     "metadata": {},
     "output_type": "execute_result"
    }
   ],
   "source": [
    "(P10*(mu10)).simplify_full()"
   ]
  },
  {
   "cell_type": "code",
   "execution_count": 71,
   "id": "46cd7e1f",
   "metadata": {},
   "outputs": [
    {
     "data": {
      "text/plain": [
       "[1, -1, 1, -1]"
      ]
     },
     "execution_count": 71,
     "metadata": {},
     "output_type": "execute_result"
    }
   ],
   "source": [
    "[((mu10.minors(len(P10)-1)[i])/P10[len(P10)-i-1]).simplify_full() for i in range(0,len(P10))]"
   ]
  },
  {
   "cell_type": "code",
   "execution_count": 72,
   "id": "dc8f635a",
   "metadata": {},
   "outputs": [
    {
     "data": {
      "text/plain": [
       "(2, 0, 0)"
      ]
     },
     "execution_count": 72,
     "metadata": {},
     "output_type": "execute_result"
    }
   ],
   "source": [
    "deg(mu10.column(0),t),deg(mu10.column(1),t),deg(mu10.column(2),t)"
   ]
  },
  {
   "cell_type": "code",
   "execution_count": null,
   "id": "ff350665",
   "metadata": {},
   "outputs": [],
   "source": []
  },
  {
   "cell_type": "code",
   "execution_count": null,
   "id": "6a59f442",
   "metadata": {},
   "outputs": [],
   "source": []
  },
  {
   "cell_type": "code",
   "execution_count": null,
   "id": "6d829f36",
   "metadata": {},
   "outputs": [],
   "source": []
  },
  {
   "cell_type": "markdown",
   "id": "c4a5f6fe",
   "metadata": {},
   "source": [
    "### cone with the rational space curves (r*s,0,s) and (-r*(s^2 - 1)*s/(s^2 + 1), 2*r*s^2/(s^2 + 1), s)"
   ]
  },
  {
   "cell_type": "code",
   "execution_count": 73,
   "id": "8574f3fe",
   "metadata": {},
   "outputs": [
    {
     "name": "stdout",
     "output_type": "stream",
     "text": [
      "--- 0.17774271965026855 seconds ---\n"
     ]
    },
    {
     "data": {
      "text/plain": [
       "[   1/8*t     -1/8        0]\n",
       "[     1/4   1/16*t        0]\n",
       "[       0        0       -1]\n",
       "[-1/8*s*t   -1/8*s        s]"
      ]
     },
     "execution_count": 73,
     "metadata": {},
     "output_type": "execute_result"
    }
   ],
   "source": [
    "#r=1\n",
    "import time\n",
    "start_time = time.time()\n",
    "var('s,t')\n",
    "\n",
    "P11=vector([4*s*t^2 - 16*s, 16*s*t, 4*s*t^2 + 16*s, 4*t^2 + 16])\n",
    "mu11=muBasis(P11)\n",
    "\n",
    "time=(time.time() - start_time)\n",
    "print(\"--- %s seconds ---\" % time)\n",
    "\n",
    "\n",
    "mu11"
   ]
  },
  {
   "cell_type": "code",
   "execution_count": 74,
   "id": "affeeb20",
   "metadata": {},
   "outputs": [
    {
     "data": {
      "text/plain": [
       "(0, 0, 0)"
      ]
     },
     "execution_count": 74,
     "metadata": {},
     "output_type": "execute_result"
    }
   ],
   "source": [
    "(P11*(mu11)).simplify_full()"
   ]
  },
  {
   "cell_type": "code",
   "execution_count": 75,
   "id": "63304ea9",
   "metadata": {},
   "outputs": [
    {
     "data": {
      "text/plain": [
       "[-1/512, 1/512, -1/512, 1/512]"
      ]
     },
     "execution_count": 75,
     "metadata": {},
     "output_type": "execute_result"
    }
   ],
   "source": [
    "[((mu11.minors(len(P11)-1)[i])/P11[len(P11)-i-1]).simplify_full() for i in range(0,len(P11))]"
   ]
  },
  {
   "cell_type": "code",
   "execution_count": null,
   "id": "746dec9b",
   "metadata": {},
   "outputs": [],
   "source": []
  },
  {
   "cell_type": "code",
   "execution_count": 76,
   "id": "9b7db9cc",
   "metadata": {},
   "outputs": [
    {
     "name": "stdout",
     "output_type": "stream",
     "text": [
      "--- 0.12134099006652832 seconds ---\n"
     ]
    },
    {
     "data": {
      "text/plain": [
       "[  1/100*t    -1/100         0]\n",
       "[     1/20   1/500*t         0]\n",
       "[        0         0        -1]\n",
       "[-1/50*s*t   -1/50*s         s]"
      ]
     },
     "execution_count": 76,
     "metadata": {},
     "output_type": "execute_result"
    }
   ],
   "source": [
    "#r=2\n",
    "import time\n",
    "start_time = time.time()\n",
    "var('s,t')\n",
    "\n",
    "P12=vector([50*s*t^2 - 1250*s, 500*s*t, 25*s*t^2 + 625*s, 25*t^2 + 625])\n",
    "mu12=muBasis(P12)\n",
    "\n",
    "time=(time.time() - start_time)\n",
    "print(\"--- %s seconds ---\" % time)\n",
    "\n",
    "mu12"
   ]
  },
  {
   "cell_type": "code",
   "execution_count": 77,
   "id": "ed6f11f3",
   "metadata": {},
   "outputs": [
    {
     "data": {
      "text/plain": [
       "(0, 0, 0)"
      ]
     },
     "execution_count": 77,
     "metadata": {},
     "output_type": "execute_result"
    }
   ],
   "source": [
    "(P12*(mu12)).simplify_full()"
   ]
  },
  {
   "cell_type": "code",
   "execution_count": 78,
   "id": "1b249ae1",
   "metadata": {},
   "outputs": [
    {
     "data": {
      "text/plain": [
       "[-1/1250000, 1/1250000, -1/1250000, 1/1250000]"
      ]
     },
     "execution_count": 78,
     "metadata": {},
     "output_type": "execute_result"
    }
   ],
   "source": [
    "[((mu12.minors(len(P12)-1)[i])/P12[len(P12)-i-1]).simplify_full() for i in range(0,len(P12))]"
   ]
  },
  {
   "cell_type": "code",
   "execution_count": null,
   "id": "7f710dec",
   "metadata": {},
   "outputs": [],
   "source": []
  },
  {
   "cell_type": "markdown",
   "id": "bb0efafa",
   "metadata": {},
   "source": [
    "### cylinder with the rational space curves (r,0,s) and (-(s^2 - 1)*r/(s^2 + 1), 2*r*s/(s^2 + 1), s)"
   ]
  },
  {
   "cell_type": "code",
   "execution_count": 79,
   "id": "1abce3bf",
   "metadata": {},
   "outputs": [
    {
     "name": "stdout",
     "output_type": "stream",
     "text": [
      "--- 0.14236021041870117 seconds ---\n"
     ]
    },
    {
     "data": {
      "text/plain": [
       "[ 1/4*t   -1/4      0]\n",
       "[   1/4  1/4*t      0]\n",
       "[     0      0     -1]\n",
       "[-1/2*t   -1/2      s]"
      ]
     },
     "execution_count": 79,
     "metadata": {},
     "output_type": "execute_result"
    }
   ],
   "source": [
    "#r=2\n",
    "import time\n",
    "start_time = time.time()\n",
    "var('s,t')\n",
    "\n",
    "P13=vector([2*t^2 - 2, 4*t, s*t^2 + s, t^2 + 1])\n",
    "mu13=muBasis(P13)\n",
    "\n",
    "time=(time.time() - start_time)\n",
    "print(\"--- %s seconds ---\" % time)\n",
    "\n",
    "mu13"
   ]
  },
  {
   "cell_type": "code",
   "execution_count": 80,
   "id": "362fe8f4",
   "metadata": {},
   "outputs": [
    {
     "data": {
      "text/plain": [
       "(0, 0, 0)"
      ]
     },
     "execution_count": 80,
     "metadata": {},
     "output_type": "execute_result"
    }
   ],
   "source": [
    "(P13*(mu13)).simplify_full()"
   ]
  },
  {
   "cell_type": "code",
   "execution_count": 81,
   "id": "641aea56",
   "metadata": {},
   "outputs": [
    {
     "data": {
      "text/plain": [
       "[-1/16, 1/16, -1/16, 1/16]"
      ]
     },
     "execution_count": 81,
     "metadata": {},
     "output_type": "execute_result"
    }
   ],
   "source": [
    "[((mu13.minors(len(P13)-1)[i])/P13[len(P13)-i-1]).simplify_full() for i in range(0,len(P13))]"
   ]
  },
  {
   "cell_type": "code",
   "execution_count": null,
   "id": "2f229e51",
   "metadata": {},
   "outputs": [],
   "source": []
  },
  {
   "cell_type": "code",
   "execution_count": 82,
   "id": "d1c7883e",
   "metadata": {},
   "outputs": [
    {
     "name": "stdout",
     "output_type": "stream",
     "text": [
      "--- 0.16260194778442383 seconds ---\n"
     ]
    },
    {
     "data": {
      "text/plain": [
       "[     t     -1      0]\n",
       "[     1      t      0]\n",
       "[     0      0     -1]\n",
       "[-1/2*t   -1/2      s]"
      ]
     },
     "execution_count": 82,
     "metadata": {},
     "output_type": "execute_result"
    }
   ],
   "source": [
    "#r=1/2\n",
    "import time\n",
    "start_time = time.time()\n",
    "var('s,t')\n",
    "\n",
    "P14=vector([1/2*t^2 - 1/2, t, s*t^2 + s, t^2 + 1])\n",
    "mu14=muBasis(P14)\n",
    "\n",
    "time=(time.time() - start_time)\n",
    "print(\"--- %s seconds ---\" % time)\n",
    "\n",
    "\n",
    "mu14"
   ]
  },
  {
   "cell_type": "code",
   "execution_count": 83,
   "id": "8405d237",
   "metadata": {},
   "outputs": [
    {
     "data": {
      "text/plain": [
       "(0, 0, 0)"
      ]
     },
     "execution_count": 83,
     "metadata": {},
     "output_type": "execute_result"
    }
   ],
   "source": [
    "(P14*(mu14)).simplify_full()"
   ]
  },
  {
   "cell_type": "code",
   "execution_count": 84,
   "id": "f8785d36",
   "metadata": {},
   "outputs": [
    {
     "data": {
      "text/plain": [
       "[-1, 1, -1, 1]"
      ]
     },
     "execution_count": 84,
     "metadata": {},
     "output_type": "execute_result"
    }
   ],
   "source": [
    "[((mu14.minors(len(P14)-1)[i])/P14[len(P14)-i-1]).simplify_full() for i in range(0,len(P14))]"
   ]
  },
  {
   "cell_type": "code",
   "execution_count": null,
   "id": "921c89e6",
   "metadata": {},
   "outputs": [],
   "source": []
  },
  {
   "cell_type": "code",
   "execution_count": null,
   "id": "27d473b3",
   "metadata": {},
   "outputs": [],
   "source": []
  },
  {
   "cell_type": "markdown",
   "id": "1d3af536",
   "metadata": {},
   "source": [
    "### Degree of t is zero"
   ]
  },
  {
   "cell_type": "code",
   "execution_count": 85,
   "id": "9d2daf84",
   "metadata": {},
   "outputs": [
    {
     "name": "stdout",
     "output_type": "stream",
     "text": [
      "--- 0.01944756507873535 seconds ---\n"
     ]
    },
    {
     "data": {
      "text/plain": [
       "[s^3 + 2    -2*s]\n",
       "[   -s^2     s^3]\n",
       "[      0      -1]"
      ]
     },
     "execution_count": 85,
     "metadata": {},
     "output_type": "execute_result"
    }
   ],
   "source": [
    "\n",
    "import time\n",
    "start_time = time.time()\n",
    "var('s,t')\n",
    "\n",
    "P15=vector([s^2, 2+s^3, s^6])\n",
    "mu15=muBasis(P15)\n",
    "\n",
    "time=(time.time() - start_time)\n",
    "print(\"--- %s seconds ---\" % time)\n",
    "\n",
    "\n",
    "mu15"
   ]
  },
  {
   "cell_type": "code",
   "execution_count": 86,
   "id": "32b84af6",
   "metadata": {},
   "outputs": [
    {
     "data": {
      "text/plain": [
       "(0, 0)"
      ]
     },
     "execution_count": 86,
     "metadata": {},
     "output_type": "execute_result"
    }
   ],
   "source": [
    "(P15*mu15).simplify_full()"
   ]
  },
  {
   "cell_type": "code",
   "execution_count": 87,
   "id": "c5675d5b",
   "metadata": {},
   "outputs": [
    {
     "data": {
      "text/plain": [
       "[1, -1, 1]"
      ]
     },
     "execution_count": 87,
     "metadata": {},
     "output_type": "execute_result"
    }
   ],
   "source": [
    "[((mu15.minors(len(P15)-1)[i])/P15[len(P15)-i-1]).simplify_full() for i in range(0,len(P15))]"
   ]
  },
  {
   "cell_type": "code",
   "execution_count": null,
   "id": "1ef710a4",
   "metadata": {},
   "outputs": [],
   "source": []
  },
  {
   "cell_type": "code",
   "execution_count": 88,
   "id": "ba3c4b15",
   "metadata": {},
   "outputs": [
    {
     "name": "stdout",
     "output_type": "stream",
     "text": [
      "--- 0.029876232147216797 seconds ---\n"
     ]
    },
    {
     "data": {
      "text/plain": [
       "[         0         -1          0]\n",
       "[   s^3 - 2   -s^2 - 7         -1]\n",
       "[        -1        s^3          0]\n",
       "[  s^2 + 11 2*s^2 + 14    s^3 + 2]"
      ]
     },
     "execution_count": 88,
     "metadata": {},
     "output_type": "execute_result"
    }
   ],
   "source": [
    "\n",
    "import time\n",
    "start_time = time.time()\n",
    "var('s,t')\n",
    "\n",
    "P16=vector([s^9, 2+s^3, s^6+s^2+7,1])\n",
    "mu16=muBasis(P16)\n",
    "\n",
    "time=(time.time() - start_time)\n",
    "print(\"--- %s seconds ---\" % time)\n",
    "\n",
    "\n",
    "mu16"
   ]
  },
  {
   "cell_type": "code",
   "execution_count": 89,
   "id": "527b0779",
   "metadata": {},
   "outputs": [
    {
     "data": {
      "text/plain": [
       "(0, 0, 0)"
      ]
     },
     "execution_count": 89,
     "metadata": {},
     "output_type": "execute_result"
    }
   ],
   "source": [
    "(P16*mu16).simplify_full()"
   ]
  },
  {
   "cell_type": "code",
   "execution_count": 90,
   "id": "04af78cf",
   "metadata": {},
   "outputs": [
    {
     "data": {
      "text/plain": [
       "[-1, 1, -1, 1]"
      ]
     },
     "execution_count": 90,
     "metadata": {},
     "output_type": "execute_result"
    }
   ],
   "source": [
    "[((mu16.minors(len(P16)-1)[i])/P16[len(P16)-i-1]).simplify_full() for i in range(0,len(P16))]"
   ]
  },
  {
   "cell_type": "code",
   "execution_count": null,
   "id": "af583471",
   "metadata": {},
   "outputs": [],
   "source": []
  },
  {
   "cell_type": "code",
   "execution_count": null,
   "id": "b727cabd",
   "metadata": {},
   "outputs": [],
   "source": []
  },
  {
   "cell_type": "code",
   "execution_count": null,
   "id": "24a61a9a",
   "metadata": {},
   "outputs": [],
   "source": []
  },
  {
   "cell_type": "code",
   "execution_count": null,
   "id": "22069af3",
   "metadata": {},
   "outputs": [],
   "source": []
  },
  {
   "cell_type": "code",
   "execution_count": 91,
   "id": "20854d62",
   "metadata": {},
   "outputs": [
    {
     "name": "stdout",
     "output_type": "stream",
     "text": [
      "--- 0.227158784866333 seconds ---\n"
     ]
    }
   ],
   "source": [
    "import time\n",
    "start_time = time.time()\n",
    "var('s,t')\n",
    "P=vector([s^3+s*t^2+7*s*t-1, 2*s*t+s^2,t, s^2+t^2+1])\n",
    "mu=muBasis(P)\n",
    "time=(time.time() - start_time)\n",
    "print(\"--- %s seconds ---\" % time)"
   ]
  },
  {
   "cell_type": "code",
   "execution_count": 92,
   "id": "25daa025",
   "metadata": {
    "scrolled": true
   },
   "outputs": [
    {
     "data": {
      "text/plain": [
       "[                       -(s - 1)*s*t - t                                   s - 1                                -1/7*s^2]\n",
       "[                                   -s*t                                       2                            -1/7*s - 1/7]\n",
       "[(7*s^2 - 3*s)*s*t - (2*s^2 - 7*s)*t - 1                        -7*s^2 + 3*s + t                   s^3 + 2/7*s^2 + 2/7*s]\n",
       "[                      (s^2 - s + 1)*s*t                            -s^2 + s - 1                                 1/7*s^3]"
      ]
     },
     "execution_count": 92,
     "metadata": {},
     "output_type": "execute_result"
    }
   ],
   "source": [
    "mu"
   ]
  },
  {
   "cell_type": "code",
   "execution_count": 93,
   "id": "3e819a2b",
   "metadata": {},
   "outputs": [
    {
     "data": {
      "text/plain": [
       "(0, 0, 0)"
      ]
     },
     "execution_count": 93,
     "metadata": {},
     "output_type": "execute_result"
    }
   ],
   "source": [
    "(P*mu).simplify_full()"
   ]
  },
  {
   "cell_type": "code",
   "execution_count": 94,
   "id": "0835ef27",
   "metadata": {},
   "outputs": [
    {
     "data": {
      "text/plain": [
       "[-1/7, 1/7, -1/7, 1/7]"
      ]
     },
     "execution_count": 94,
     "metadata": {},
     "output_type": "execute_result"
    }
   ],
   "source": [
    "[((mu.minors(len(P)-1)[i])/P[len(P)-i-1]).simplify_full() for i in range(0,len(P))]"
   ]
  },
  {
   "cell_type": "code",
   "execution_count": null,
   "id": "4d93e7a8",
   "metadata": {},
   "outputs": [],
   "source": []
  },
  {
   "cell_type": "code",
   "execution_count": null,
   "id": "3d049fe0",
   "metadata": {},
   "outputs": [],
   "source": []
  },
  {
   "cell_type": "code",
   "execution_count": null,
   "id": "538fb28e",
   "metadata": {},
   "outputs": [],
   "source": []
  },
  {
   "cell_type": "code",
   "execution_count": null,
   "id": "1f248e83",
   "metadata": {},
   "outputs": [],
   "source": []
  }
 ],
 "metadata": {
  "kernelspec": {
   "display_name": "SageMath 9.4",
   "language": "sage",
   "name": "sagemath"
  },
  "language_info": {
   "codemirror_mode": {
    "name": "ipython",
    "version": 3
   },
   "file_extension": ".py",
   "mimetype": "text/x-python",
   "name": "python",
   "nbconvert_exporter": "python",
   "pygments_lexer": "ipython3",
   "version": "3.9.9"
  }
 },
 "nbformat": 4,
 "nbformat_minor": 5
}
